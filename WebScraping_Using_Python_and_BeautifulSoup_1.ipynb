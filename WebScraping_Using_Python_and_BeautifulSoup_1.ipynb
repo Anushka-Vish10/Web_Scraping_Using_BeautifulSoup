{
 "cells": [
  {
   "cell_type": "code",
   "execution_count": 4,
   "id": "790ca9c8",
   "metadata": {},
   "outputs": [
    {
     "name": "stdout",
     "output_type": "stream",
     "text": [
      "Requirement already satisfied: requests in c:\\users\\celebal\\anaconda3\\lib\\site-packages (2.25.1)\n",
      "Requirement already satisfied: certifi>=2017.4.17 in c:\\users\\celebal\\anaconda3\\lib\\site-packages (from requests) (2020.12.5)\n",
      "Requirement already satisfied: urllib3<1.27,>=1.21.1 in c:\\users\\celebal\\anaconda3\\lib\\site-packages (from requests) (1.26.4)\n",
      "Requirement already satisfied: idna<3,>=2.5 in c:\\users\\celebal\\anaconda3\\lib\\site-packages (from requests) (2.10)\n",
      "Requirement already satisfied: chardet<5,>=3.0.2 in c:\\users\\celebal\\anaconda3\\lib\\site-packages (from requests) (4.0.0)\n",
      "Requirement already satisfied: bs4 in c:\\users\\celebal\\anaconda3\\lib\\site-packages (0.0.1)\n",
      "Requirement already satisfied: beautifulsoup4 in c:\\users\\celebal\\anaconda3\\lib\\site-packages (from bs4) (4.9.3)\n",
      "Requirement already satisfied: soupsieve>1.2 in c:\\users\\celebal\\anaconda3\\lib\\site-packages (from beautifulsoup4->bs4) (2.2.1)\n",
      "Requirement already satisfied: html5lib in c:\\users\\celebal\\anaconda3\\lib\\site-packages (1.1)\n",
      "Requirement already satisfied: six>=1.9 in c:\\users\\celebal\\anaconda3\\lib\\site-packages (from html5lib) (1.15.0)\n",
      "Requirement already satisfied: webencodings in c:\\users\\celebal\\anaconda3\\lib\\site-packages (from html5lib) (0.5.1)\n"
     ]
    }
   ],
   "source": [
    "!pip install requests\n",
    "!pip install bs4\n",
    "!pip install html5lib"
   ]
  },
  {
   "cell_type": "code",
   "execution_count": 6,
   "id": "763cfc96",
   "metadata": {},
   "outputs": [],
   "source": [
    "import requests\n",
    "from bs4 import BeautifulSoup"
   ]
  },
  {
   "cell_type": "code",
   "execution_count": 7,
   "id": "43f69a1f",
   "metadata": {},
   "outputs": [],
   "source": [
    "url = \"https://codewithharry.com/\""
   ]
  },
  {
   "cell_type": "markdown",
   "id": "5bb14f8a",
   "metadata": {},
   "source": [
    "# Step1 -- Get the HTML"
   ]
  },
  {
   "cell_type": "code",
   "execution_count": 8,
   "id": "a9853926",
   "metadata": {},
   "outputs": [],
   "source": [
    "# performing get requests over url\n",
    "r = requests.get(url)\n",
    "# getting HTML content \n",
    "htmlcontent = r.content\n"
   ]
  },
  {
   "cell_type": "code",
   "execution_count": 9,
   "id": "1bd299dc",
   "metadata": {
    "scrolled": false
   },
   "outputs": [
    {
     "data": {
      "text/plain": [
       "b'<!DOCTYPE html><html lang=\"en\"><head>\\n  <meta charset=\"utf-8\">\\n  <title>Home - CodeWithHarry</title>\\n  <base href=\"/\">\\n  <meta name=\"viewport\" content=\"width=device-width, initial-scale=1\">\\n  <link rel=\"icon\" type=\"image/x-icon\" href=\"favicon.ico\">\\n  <link rel=\"preconnect\" href=\"https://fonts.gstatic.com\">\\n  <style type=\"text/css\">@font-face{font-family:\\'Roboto\\';font-style:normal;font-weight:300;font-display:swap;src:url(https://fonts.gstatic.com/s/roboto/v27/KFOlCnqEu92Fr1MmSU5fCRc4AMP6lbBP.woff2) format(\\'woff2\\');unicode-range:U+0460-052F, U+1C80-1C88, U+20B4, U+2DE0-2DFF, U+A640-A69F, U+FE2E-FE2F;}@font-face{font-family:\\'Roboto\\';font-style:normal;font-weight:300;font-display:swap;src:url(https://fonts.gstatic.com/s/roboto/v27/KFOlCnqEu92Fr1MmSU5fABc4AMP6lbBP.woff2) format(\\'woff2\\');unicode-range:U+0400-045F, U+0490-0491, U+04B0-04B1, U+2116;}@font-face{font-family:\\'Roboto\\';font-style:normal;font-weight:300;font-display:swap;src:url(https://fonts.gstatic.com/s/roboto/v27/KFOlCnqEu92Fr1MmSU5fCBc4AMP6lbBP.woff2) format(\\'woff2\\');unicode-range:U+1F00-1FFF;}@font-face{font-family:\\'Roboto\\';font-style:normal;font-weight:300;font-display:swap;src:url(https://fonts.gstatic.com/s/roboto/v27/KFOlCnqEu92Fr1MmSU5fBxc4AMP6lbBP.woff2) format(\\'woff2\\');unicode-range:U+0370-03FF;}@font-face{font-family:\\'Roboto\\';font-style:normal;font-weight:300;font-display:swap;src:url(https://fonts.gstatic.com/s/roboto/v27/KFOlCnqEu92Fr1MmSU5fCxc4AMP6lbBP.woff2) format(\\'woff2\\');unicode-range:U+0102-0103, U+0110-0111, U+0128-0129, U+0168-0169, U+01A0-01A1, U+01AF-01B0, U+1EA0-1EF9, U+20AB;}@font-face{font-family:\\'Roboto\\';font-style:normal;font-weight:300;font-display:swap;src:url(https://fonts.gstatic.com/s/roboto/v27/KFOlCnqEu92Fr1MmSU5fChc4AMP6lbBP.woff2) format(\\'woff2\\');unicode-range:U+0100-024F, U+0259, U+1E00-1EFF, U+2020, U+20A0-20AB, U+20AD-20CF, U+2113, U+2C60-2C7F, U+A720-A7FF;}@font-face{font-family:\\'Roboto\\';font-style:normal;font-weight:300;font-display:swap;src:url(https://fonts.gstatic.com/s/roboto/v27/KFOlCnqEu92Fr1MmSU5fBBc4AMP6lQ.woff2) format(\\'woff2\\');unicode-range:U+0000-00FF, U+0131, U+0152-0153, U+02BB-02BC, U+02C6, U+02DA, U+02DC, U+2000-206F, U+2074, U+20AC, U+2122, U+2191, U+2193, U+2212, U+2215, U+FEFF, U+FFFD;}@font-face{font-family:\\'Roboto\\';font-style:normal;font-weight:400;font-display:swap;src:url(https://fonts.gstatic.com/s/roboto/v27/KFOmCnqEu92Fr1Mu72xKKTU1Kvnz.woff2) format(\\'woff2\\');unicode-range:U+0460-052F, U+1C80-1C88, U+20B4, U+2DE0-2DFF, U+A640-A69F, U+FE2E-FE2F;}@font-face{font-family:\\'Roboto\\';font-style:normal;font-weight:400;font-display:swap;src:url(https://fonts.gstatic.com/s/roboto/v27/KFOmCnqEu92Fr1Mu5mxKKTU1Kvnz.woff2) format(\\'woff2\\');unicode-range:U+0400-045F, U+0490-0491, U+04B0-04B1, U+2116;}@font-face{font-family:\\'Roboto\\';font-style:normal;font-weight:400;font-display:swap;src:url(https://fonts.gstatic.com/s/roboto/v27/KFOmCnqEu92Fr1Mu7mxKKTU1Kvnz.woff2) format(\\'woff2\\');unicode-range:U+1F00-1FFF;}@font-face{font-family:\\'Roboto\\';font-style:normal;font-weight:400;font-display:swap;src:url(https://fonts.gstatic.com/s/roboto/v27/KFOmCnqEu92Fr1Mu4WxKKTU1Kvnz.woff2) format(\\'woff2\\');unicode-range:U+0370-03FF;}@font-face{font-family:\\'Roboto\\';font-style:normal;font-weight:400;font-display:swap;src:url(https://fonts.gstatic.com/s/roboto/v27/KFOmCnqEu92Fr1Mu7WxKKTU1Kvnz.woff2) format(\\'woff2\\');unicode-range:U+0102-0103, U+0110-0111, U+0128-0129, U+0168-0169, U+01A0-01A1, U+01AF-01B0, U+1EA0-1EF9, U+20AB;}@font-face{font-family:\\'Roboto\\';font-style:normal;font-weight:400;font-display:swap;src:url(https://fonts.gstatic.com/s/roboto/v27/KFOmCnqEu92Fr1Mu7GxKKTU1Kvnz.woff2) format(\\'woff2\\');unicode-range:U+0100-024F, U+0259, U+1E00-1EFF, U+2020, U+20A0-20AB, U+20AD-20CF, U+2113, U+2C60-2C7F, U+A720-A7FF;}@font-face{font-family:\\'Roboto\\';font-style:normal;font-weight:400;font-display:swap;src:url(https://fonts.gstatic.com/s/roboto/v27/KFOmCnqEu92Fr1Mu4mxKKTU1Kg.woff2) format(\\'woff2\\');unicode-range:U+0000-00FF, U+0131, U+0152-0153, U+02BB-02BC, U+02C6, U+02DA, U+02DC, U+2000-206F, U+2074, U+20AC, U+2122, U+2191, U+2193, U+2212, U+2215, U+FEFF, U+FFFD;}@font-face{font-family:\\'Roboto\\';font-style:normal;font-weight:500;font-display:swap;src:url(https://fonts.gstatic.com/s/roboto/v27/KFOlCnqEu92Fr1MmEU9fCRc4AMP6lbBP.woff2) format(\\'woff2\\');unicode-range:U+0460-052F, U+1C80-1C88, U+20B4, U+2DE0-2DFF, U+A640-A69F, U+FE2E-FE2F;}@font-face{font-family:\\'Roboto\\';font-style:normal;font-weight:500;font-display:swap;src:url(https://fonts.gstatic.com/s/roboto/v27/KFOlCnqEu92Fr1MmEU9fABc4AMP6lbBP.woff2) format(\\'woff2\\');unicode-range:U+0400-045F, U+0490-0491, U+04B0-04B1, U+2116;}@font-face{font-family:\\'Roboto\\';font-style:normal;font-weight:500;font-display:swap;src:url(https://fonts.gstatic.com/s/roboto/v27/KFOlCnqEu92Fr1MmEU9fCBc4AMP6lbBP.woff2) format(\\'woff2\\');unicode-range:U+1F00-1FFF;}@font-face{font-family:\\'Roboto\\';font-style:normal;font-weight:500;font-display:swap;src:url(https://fonts.gstatic.com/s/roboto/v27/KFOlCnqEu92Fr1MmEU9fBxc4AMP6lbBP.woff2) format(\\'woff2\\');unicode-range:U+0370-03FF;}@font-face{font-family:\\'Roboto\\';font-style:normal;font-weight:500;font-display:swap;src:url(https://fonts.gstatic.com/s/roboto/v27/KFOlCnqEu92Fr1MmEU9fCxc4AMP6lbBP.woff2) format(\\'woff2\\');unicode-range:U+0102-0103, U+0110-0111, U+0128-0129, U+0168-0169, U+01A0-01A1, U+01AF-01B0, U+1EA0-1EF9, U+20AB;}@font-face{font-family:\\'Roboto\\';font-style:normal;font-weight:500;font-display:swap;src:url(https://fonts.gstatic.com/s/roboto/v27/KFOlCnqEu92Fr1MmEU9fChc4AMP6lbBP.woff2) format(\\'woff2\\');unicode-range:U+0100-024F, U+0259, U+1E00-1EFF, U+2020, U+20A0-20AB, U+20AD-20CF, U+2113, U+2C60-2C7F, U+A720-A7FF;}@font-face{font-family:\\'Roboto\\';font-style:normal;font-weight:500;font-display:swap;src:url(https://fonts.gstatic.com/s/roboto/v27/KFOlCnqEu92Fr1MmEU9fBBc4AMP6lQ.woff2) format(\\'woff2\\');unicode-range:U+0000-00FF, U+0131, U+0152-0153, U+02BB-02BC, U+02C6, U+02DA, U+02DC, U+2000-206F, U+2074, U+20AC, U+2122, U+2191, U+2193, U+2212, U+2215, U+FEFF, U+FFFD;}</style>\\n  <style type=\"text/css\">@font-face{font-family:\\'Material Icons\\';font-style:normal;font-weight:400;src:url(https://fonts.gstatic.com/s/materialicons/v87/flUhRq6tzZclQEJ-Vdg-IuiaDsNcIhQ8tQ.woff2) format(\\'woff2\\');}.material-icons{font-family:\\'Material Icons\\';font-weight:normal;font-style:normal;font-size:24px;line-height:1;letter-spacing:normal;text-transform:none;display:inline-block;white-space:nowrap;word-wrap:normal;direction:ltr;-webkit-font-feature-settings:\\'liga\\';-webkit-font-smoothing:antialiased;}</style>\\n  <script data-ad-client=\"ca-pub-9655830461045889\" async=\"\" src=\"https://pagead2.googlesyndication.com/pagead/js/adsbygoogle.js\"></script>\\n  <!-- Global site tag (gtag.js) - Google Analytics -->\\n  <script async=\"\" src=\"https://www.googletagmanager.com/gtag/js?id=UA-60726752-3\"></script>\\n  <script>\\n    window.dataLayer = window.dataLayer || [];\\n    function gtag() { dataLayer.push(arguments); }\\n    gtag(\\'js\\', new Date());\\n    gtag(\\'config\\', \\'UA-60726752-3\\');\\n  </script>\\n<link rel=\"stylesheet\" href=\"styles.bc31d58d1fffbdf64e6b.css\"><style ng-transition=\"serverApp\">.content[_ngcontent-sc76]{min-height:calc(100vh - 56px - 80px)}</style><style ng-transition=\"serverApp\">[_nghost-sc73]{position:relative;display:block;pointer-events:none}[_nghost-sc73]   .ngx-spinner[_ngcontent-sc73]{transition:350ms linear;display:block;position:absolute;top:5px;left:0}[_nghost-sc73]   .ngx-spinner[_ngcontent-sc73]   .ngx-spinner-icon[_ngcontent-sc73]{width:14px;height:14px;border:2px solid transparent;border-top-color:inherit;border-left-color:inherit;border-radius:50%;-webkit-animation:.4s linear infinite loading-bar-spinner;animation:.4s linear infinite loading-bar-spinner}[_nghost-sc73]   .ngx-bar[_ngcontent-sc73]{transition:width 350ms;position:absolute;top:0;left:0;width:100%;height:2px;border-bottom-right-radius:1px;border-top-right-radius:1px}[dir=rtl]   [_nghost-sc73]   .ngx-bar[_ngcontent-sc73]{right:0;left:unset}[fixed=true][_nghost-sc73]{z-index:10002}[fixed=true][_nghost-sc73]   .ngx-bar[_ngcontent-sc73]{position:fixed}[fixed=true][_nghost-sc73]   .ngx-spinner[_ngcontent-sc73]{position:fixed;top:10px;left:10px}[dir=rtl]   [fixed=true][_nghost-sc73]   .ngx-spinner[_ngcontent-sc73]{right:10px;left:unset}@-webkit-keyframes loading-bar-spinner{0%{transform:rotate(0)}100%{transform:rotate(360deg)}}@keyframes loading-bar-spinner{0%{transform:rotate(0)}100%{transform:rotate(360deg)}}</style><style ng-transition=\"serverApp\">.brandLogo[_ngcontent-sc74]{max-width:39px;margin:0 13px}li[_ngcontent-sc74]   a.nav-link[_ngcontent-sc74]{color:#fff}.notificationImg[_ngcontent-sc74]{width:30px;filter:invert(1)}.notification-bell[_ngcontent-sc74]{position:absolute;right:0}.dropdown-toggle[_ngcontent-sc74]{font-weight:700}.dropdown-menu-notify[_ngcontent-sc74]{overflow-y:scroll;overflow-x:hidden;max-height:400px;top:60px;right:-1px;left:unset;width:460px;box-shadow:0 5px 7px -1px #c1c1c1;padding:0}ul[_ngcontent-sc74]   ul[_ngcontent-sc74]   a[_ngcontent-sc74]{background:transparent}.dropdown-menu-notify[_ngcontent-sc74]:before{content:\"\";position:absolute;top:-20px;right:12px;border:10px solid transparent;border-bottom-color:#fff}.head-notify[_ngcontent-sc74]{padding:5px 15px;border-radius:3px 3px 0 0}.footer-notify[_ngcontent-sc74]{padding:5px 15px;border-radius:0 0 3px 3px}.notification-box-notify[_ngcontent-sc74]{padding:10px 0}.bg-gray-notify[_ngcontent-sc74]{background-color:#eee}@media (max-width:640px){.dropdown-menu-notify[_ngcontent-sc74]{top:50px;left:-16px;width:290px}.nav-notify[_ngcontent-sc74]{display:block}.nav-notify[_ngcontent-sc74]   .nav-item-notify[_ngcontent-sc74], .nav-notify[_ngcontent-sc74]   .nav-item-notify[_ngcontent-sc74]   a[_ngcontent-sc74]{padding-left:0}.message-notify[_ngcontent-sc74]{font-size:13px}}.loginError[_ngcontent-sc74]{color:red;padding:3px 2px}div.alert[_ngcontent-sc74]{margin:0}input.ng-touched.ng-invalid[_ngcontent-sc74], textarea.ng-touched.ng-invalid[_ngcontent-sc74]{border-color:red}.forgot[_ngcontent-sc74]{font-size:14px;color:#000;text-align:left;text-decoration:underline;cursor:pointer;padding:16px 0}.googleAuth[_ngcontent-sc74]{width:46%;cursor:pointer;border:1px solid #000;border-radius:3px;background:#60a3dd;margin-top:1px}.or[_ngcontent-sc74]{font-weight:500;font-size:19px}.modal-header[_ngcontent-sc74]{display:flex;align-items:center;justify-content:center;flex-direction:column}.modal-header[_ngcontent-sc74]   span[_ngcontent-sc74]{position:absolute;top:15px;right:20px}.navbar-brand[_ngcontent-sc74]{margin:0;padding:0}</style><style ng-transition=\"serverApp\">footer[_ngcontent-sc75]{color:#fff}</style><style ng-transition=\"serverApp\">.btn[_ngcontent-sc67]{margin:0 3px}</style><meta name=\"description\" content=\"Code With Harry is my attempt to teach basics and those coding techniques to people in short time which took me ages to learn. At Code With Harry, I provide a quick and to the point demo along with resources of anything and everything I teach. Source code and other resources are hosted on my website CodeWithHarry.com. I provide source code(if any) in the description of every video.\"></head>\\n\\n<body>\\n  <app-root _nghost-sc76=\"\" ng-version=\"11.2.11\"><ngx-loading-bar _ngcontent-sc76=\"\" _nghost-sc73=\"\" fixed=\"true\" style=\"color:red;\"><!----></ngx-loading-bar><ngx-loading-bar _ngcontent-sc76=\"\" _nghost-sc73=\"\" fixed=\"true\" style=\"color:red;\"><!----></ngx-loading-bar><app-header _ngcontent-sc76=\"\" _nghost-sc74=\"\"><!----><nav _ngcontent-sc74=\"\" class=\"navbar navbar-expand-lg navbar-dark bg-dark\"><a _ngcontent-sc74=\"\" routerlink=\"/\" class=\"navbar-brand\" href=\"/\"><img _ngcontent-sc74=\"\" height=\"39px\" width=\"39px\" src=\"../../../assets/img/logo.png\" alt=\"CodeWithHarry\" class=\"brandLogo\"></a><button _ngcontent-sc74=\"\" type=\"button\" data-toggle=\"collapse\" data-target=\"#navbarSupportedContent\" aria-controls=\"navbarSupportedContent\" aria-expanded=\"false\" aria-label=\"Toggle navigation\" class=\"navbar-toggler\"><span _ngcontent-sc74=\"\" class=\"navbar-toggler-icon\"></span></button><div _ngcontent-sc74=\"\" id=\"navbarSupportedContent\" class=\"collapse navbar-collapse\"><ul _ngcontent-sc74=\"\" class=\"navbar-nav mr-auto\"><li _ngcontent-sc74=\"\" class=\"nav-item font-weight-bold\"><a _ngcontent-sc74=\"\" routerlink=\"/\" class=\"nav-link\" href=\"/\">Home</a></li><li _ngcontent-sc74=\"\" class=\"nav-item font-weight-bold\"><a _ngcontent-sc74=\"\" routerlink=\"/videos\" class=\"nav-link\" href=\"/videos\">Videos</a></li><li _ngcontent-sc74=\"\" class=\"nav-item font-weight-bold\"><a _ngcontent-sc74=\"\" routerlink=\"/blog\" class=\"nav-link\" href=\"/blog\">Blog</a></li><li _ngcontent-sc74=\"\" class=\"nav-item font-weight-bold\"><a _ngcontent-sc74=\"\" routerlink=\"/contact\" class=\"nav-link\" href=\"/contact\">Contact Me</a></li></ul><form _ngcontent-sc74=\"\" novalidate=\"\" class=\"form-inline my-2 my-lg-0 mr-3 ng-untouched ng-pristine ng-valid\"><input _ngcontent-sc74=\"\" type=\"text\" placeholder=\"Search\" aria-label=\"Search\" name=\"query\" class=\"form-control mr-sm-2 ng-untouched ng-pristine ng-valid\" value=\"\"><button _ngcontent-sc74=\"\" type=\"submit\" class=\"btn btn-danger my-2 my-sm-0\">Search</button></form><div _ngcontent-sc74=\"\" class=\"mx-0\"><button _ngcontent-sc74=\"\" type=\"button\" data-toggle=\"modal\" data-target=\"#loginModal\" class=\"btn btn-danger mr-2\">Login</button><button _ngcontent-sc74=\"\" type=\"button\" data-toggle=\"modal\" data-target=\"#signupModal\" class=\"btn btn-danger\">SignUp</button></div><!----><!----></div></nav><div _ngcontent-sc74=\"\" id=\"loginModal\" tabindex=\"-1\" role=\"dialog\" aria-labelledby=\"loginModal\" aria-hidden=\"true\" class=\"modal fade\"><div _ngcontent-sc74=\"\" role=\"document\" class=\"modal-dialog\"><div _ngcontent-sc74=\"\" class=\"modal-content\"><div _ngcontent-sc74=\"\" class=\"modal-header\"><img _ngcontent-sc74=\"\" height=\"42.75px\" width=\"25%\" src=\"../../../assets/img/googleLogin.png\" alt=\"Login with Google\" class=\"googleAuth mx-2\"><div _ngcontent-sc74=\"\" class=\"or mx-3\"> or </div><h5 _ngcontent-sc74=\"\" id=\"loginModalTitle\" class=\"modal-title\">Login via username</h5><button _ngcontent-sc74=\"\" type=\"button\" data-dismiss=\"modal\" aria-label=\"Close\" class=\"close\"><span _ngcontent-sc74=\"\" aria-hidden=\"true\">\\xc3\\x97</span></button></div><div _ngcontent-sc74=\"\" class=\"modal-body\"><form _ngcontent-sc74=\"\" novalidate=\"\" method=\"post\" class=\"ng-untouched ng-pristine ng-invalid\"><div _ngcontent-sc74=\"\" class=\"form-group\"><label _ngcontent-sc74=\"\" for=\"username\">Username</label><input _ngcontent-sc74=\"\" type=\"text\" id=\"username\" placeholder=\"Enter your username\" name=\"username\" pattern=\"[a-zA-Z0-9 ]*\" maxlength=\"10\" minlength=\"2\" required=\"\" class=\"form-control ng-untouched ng-pristine ng-invalid\" value=\"\"><!----></div><div _ngcontent-sc74=\"\" class=\"form-group\"><label _ngcontent-sc74=\"\" for=\"loginpassword\">Password</label><input _ngcontent-sc74=\"\" type=\"password\" id=\"loginpassword\" placeholder=\"Enter your password\" name=\"loginpassword\" required=\"\" class=\"form-control ng-untouched ng-pristine ng-invalid\" value=\"\"></div><button _ngcontent-sc74=\"\" type=\"submit\" id=\"loginsubmit\" class=\"btn btn-danger mt-2\" disabled=\"\"><!----> Login</button></form><!----><!----><!----><div _ngcontent-sc74=\"\" class=\"forgot\"><span _ngcontent-sc74=\"\">Forgot Password?</span></div></div><div _ngcontent-sc74=\"\" class=\"modal-footer\"><button _ngcontent-sc74=\"\" type=\"button\" data-dismiss=\"modal\" class=\"btn btn-secondary\">Close</button></div></div></div></div><div _ngcontent-sc74=\"\" id=\"signupModal\" tabindex=\"-1\" role=\"dialog\" aria-labelledby=\"signupModal\" aria-hidden=\"true\" class=\"modal fade\"><div _ngcontent-sc74=\"\" role=\"document\" class=\"modal-dialog\"><div _ngcontent-sc74=\"\" class=\"modal-content\"><div _ngcontent-sc74=\"\" class=\"modal-header\"><img _ngcontent-sc74=\"\" height=\"42.75px\" width=\"25%\" src=\"../../../assets/img/googleSignUp.png\" alt=\"Signup with Google\" class=\"googleAuth mx-2\"><div _ngcontent-sc74=\"\" class=\"or mx-3\"> or </div><h5 _ngcontent-sc74=\"\" id=\"signupModal\" class=\"modal-title\">SignUp for an account</h5><button _ngcontent-sc74=\"\" type=\"button\" data-dismiss=\"modal\" aria-label=\"Close\" class=\"close\"><span _ngcontent-sc74=\"\" aria-hidden=\"true\">\\xc3\\x97</span></button></div><div _ngcontent-sc74=\"\" class=\"modal-body\"><form _ngcontent-sc74=\"\" novalidate=\"\" method=\"post\" class=\"ng-untouched ng-pristine ng-invalid\"><div _ngcontent-sc74=\"\" class=\"form-group\"><label _ngcontent-sc74=\"\" for=\"uname\">Username</label><input _ngcontent-sc74=\"\" type=\"text\" id=\"signupUserName\" placeholder=\"Enter your username\" name=\"signupUserName\" pattern=\"[a-zA-Z0-9_ ]*\" maxlength=\"10\" minlength=\"4\" required=\"\" ngmodel=\"\" class=\"form-control ng-untouched ng-pristine ng-invalid\" value=\"\"><!----><small _ngcontent-sc74=\"\" id=\"unamehelp\" class=\"form-text text-muted px-1\"> Your unique username must 4 - 10 characters (only lowecase letters, numbers &amp; underscores allowed) with no spaces </small></div><div _ngcontent-sc74=\"\" class=\"form-group\"><label _ngcontent-sc74=\"\" for=\"signupName\">Name</label><input _ngcontent-sc74=\"\" type=\"text\" id=\"signupName\" name=\"signupName\" placeholder=\"Enter your Name\" maxlength=\"30\" ngmodel=\"\" class=\"form-control ng-untouched ng-pristine ng-valid\" value=\"\"></div><div _ngcontent-sc74=\"\" class=\"form-group\"><label _ngcontent-sc74=\"\" for=\"email\">Your Email</label><div _ngcontent-sc74=\"\" class=\"mx-0\"><div _ngcontent-sc74=\"\" class=\"col-md-8 px-0\"><input _ngcontent-sc74=\"\" type=\"email\" placeholder=\"Enter your Email\" id=\"signupEmail\" name=\"signupEmail\" required=\"\" email=\"\" maxlength=\"40\" class=\"form-control ng-untouched ng-pristine ng-invalid\" value=\"\"><!----><!----></div><div _ngcontent-sc74=\"\" class=\"col-md-4 my-1 px-0\"><button _ngcontent-sc74=\"\" type=\"button\" id=\"otpbtn\" class=\"btn btn-danger btn-sm mt-2\" disabled=\"\"><!----> Send OTP</button></div></div></div><div _ngcontent-sc74=\"\" class=\"form-group\"><label _ngcontent-sc74=\"\" for=\"otp\">Enter OTP</label><input _ngcontent-sc74=\"\" type=\"number\" id=\"signupOTP\" placeholder=\"Enter OTP\" name=\"signupOTP\" required=\"\" ngmodel=\"\" class=\"form-control ng-untouched ng-pristine ng-invalid\" value=\"\"></div><div _ngcontent-sc74=\"\" class=\"form-group\"><label _ngcontent-sc74=\"\" for=\"signupPassword1\">Choose a password (At least 4 characters)</label><input _ngcontent-sc74=\"\" type=\"password\" id=\"signupPassword1\" name=\"signupPassword1\" placeholder=\"Choose a password\" minlength=\"4\" maxlength=\"20\" ngmodel=\"\" class=\"form-control ng-untouched ng-pristine ng-valid\" value=\"\"></div><div _ngcontent-sc74=\"\" class=\"form-group mb-0\"><label _ngcontent-sc74=\"\" for=\"signupPassword2\">Retype your password</label><input _ngcontent-sc74=\"\" type=\"password\" id=\"signupPassword2\" name=\"signupPassword2\" placeholder=\"Retype your password\" minlength=\"4\" maxlength=\"20\" ngmodel=\"\" class=\"form-control ng-untouched ng-pristine ng-valid\" value=\"\"></div><!----><!----><!----><!----><button _ngcontent-sc74=\"\" type=\"submit\" class=\"btn btn-danger mt-4\" disabled=\"\"><!----> SignUp</button></form></div><div _ngcontent-sc74=\"\" class=\"modal-footer\"><button _ngcontent-sc74=\"\" type=\"button\" data-dismiss=\"modal\" class=\"btn btn-secondary\">Close</button></div></div></div></div></app-header><div _ngcontent-sc76=\"\" class=\"content\"><router-outlet _ngcontent-sc76=\"\"></router-outlet><app-homepage _nghost-sc67=\"\"><section _ngcontent-sc67=\"\" class=\"jumbotron text-center\"><div _ngcontent-sc67=\"\" class=\"container\"><img _ngcontent-sc67=\"\" src=\"../../../assets/img/logo.png\" alt=\"logo\" width=\"120\"><h1 _ngcontent-sc67=\"\" class=\"jumbotron-heading\"><span _ngcontent-sc67=\"\" id=\"typed\"></span></h1><p _ngcontent-sc67=\"\" class=\"lead text-muted\">Confused on which course to take? I have got you covered. Browse courses and find out the best course for you. Its free!<br _ngcontent-sc67=\"\">Code With Harry is my attempt to teach basics and those coding techniques to people in short time which took me ages to learn.</p><p _ngcontent-sc67=\"\"><a _ngcontent-sc67=\"\" routerlink=\"/blog\" class=\"btn btn-danger my-2\" href=\"/blog\">Browse Blog</a><a _ngcontent-sc67=\"\" routerlink=\"/videos\" class=\"btn btn-success my-2\" href=\"/videos\">Browse Video Tutorials</a><a _ngcontent-sc67=\"\" routerlink=\"/contact\" class=\"btn btn-primary my-2\" href=\"/contact\">Contact Me</a></p></div></section><div _ngcontent-sc67=\"\" class=\"container\"><div _ngcontent-sc67=\"\" class=\"row\"><div _ngcontent-sc67=\"\" class=\"card mx-auto my-2 p-2 align-items-center\" style=\"width: 18rem;\"><img _ngcontent-sc67=\"\" src=\"../../../assets/img/home-img-1.jpg\" alt=\"...\" class=\"padded card-img-top\"><div _ngcontent-sc67=\"\" class=\"card-body\"><h5 _ngcontent-sc67=\"\" class=\"card-title text-center\">Free Video Courses</h5><p _ngcontent-sc67=\"\" class=\"card-text text-center\">Get your programming career started with these free video courses. Source code is available with all the videos for amazing learning experience</p><a _ngcontent-sc67=\"\" routerlink=\"/videos\" class=\"btn btn-primary d-block\" href=\"/videos\">Browse Video Courses</a></div></div><div _ngcontent-sc67=\"\" class=\"card mx-auto my-2 p-2 align-items-center\" style=\"width: 18rem;\"><img _ngcontent-sc67=\"\" src=\"../../../assets/img/home-img-2.jpg\" alt=\"...\" class=\"padded card-img-top\"><div _ngcontent-sc67=\"\" class=\"card-body\"><h5 _ngcontent-sc67=\"\" class=\"card-title text-center\">Coding Articles</h5><p _ngcontent-sc67=\"\" class=\"card-text text-center\">Some of the latest coding information compiled in the form of coding articles. Keep your programming knowledge up to date with these articles.</p><a _ngcontent-sc67=\"\" routerlink=\"/blog\" class=\"btn btn-primary d-block\" href=\"/blog\">Go to Blog</a></div></div><div _ngcontent-sc67=\"\" class=\"card mx-auto my-2 p-2 align-items-center\" style=\"width: 18rem;\"><img _ngcontent-sc67=\"\" src=\"../../../assets/img/home-img-3.jpg\" alt=\"...\" class=\"padded card-img-top\"><div _ngcontent-sc67=\"\" class=\"card-body\"><h5 _ngcontent-sc67=\"\" class=\"card-title text-center\">Contact Me</h5><p _ngcontent-sc67=\"\" class=\"card-text text-center\">Learn programming from these free courses. Examples are available with these tutorials. You can contact me for any doubt and I will get back to you!</p><a _ngcontent-sc67=\"\" routerlink=\"/contact\" class=\"btn btn-primary d-block\" href=\"/contact\">Contact Me</a></div></div></div></div></app-homepage><!----></div><app-footer _ngcontent-sc76=\"\" _nghost-sc75=\"\"><footer _ngcontent-sc75=\"\" class=\"container-fluid bg-dark my-0 py-3 text-light\"><p _ngcontent-sc75=\"\" class=\"mb-0 text-center\">Copyright \\xc2\\xa9 2020-2021 CodeWithHarry.com</p></footer></app-footer></app-root>\\n<script src=\"runtime.7b63b9fd40098a2e8207.js\" defer=\"\"></script><script src=\"polyfills.00096ed7d93ed26ee6df.js\" defer=\"\"></script><script src=\"scripts.2558b03aa1b9660ed84d.js\" defer=\"\"></script><script src=\"main.bd8a3a7a366ac101c3dc.js\" defer=\"\"></script>\\n\\n\\n<script id=\"serverApp-state\" type=\"application/json\">{}</script></body><!-- This page was prerendered with Angular Universal --></html>'"
      ]
     },
     "execution_count": 9,
     "metadata": {},
     "output_type": "execute_result"
    }
   ],
   "source": [
    "htmlcontent"
   ]
  },
  {
   "cell_type": "markdown",
   "id": "5a2cbdee",
   "metadata": {},
   "source": [
    "# Step2 -- Parse the HTML\n"
   ]
  },
  {
   "cell_type": "code",
   "execution_count": 10,
   "id": "68fb1c83",
   "metadata": {},
   "outputs": [],
   "source": [
    "soup = BeautifulSoup(htmlcontent,\"html.parser\")"
   ]
  },
  {
   "cell_type": "code",
   "execution_count": 11,
   "id": "0163a696",
   "metadata": {
    "scrolled": false
   },
   "outputs": [
    {
     "data": {
      "text/plain": [
       "<!DOCTYPE html>\n",
       "<html lang=\"en\"><head>\n",
       "<meta charset=\"utf-8\"/>\n",
       "<title>Home - CodeWithHarry</title>\n",
       "<base href=\"/\"/>\n",
       "<meta content=\"width=device-width, initial-scale=1\" name=\"viewport\"/>\n",
       "<link href=\"favicon.ico\" rel=\"icon\" type=\"image/x-icon\"/>\n",
       "<link href=\"https://fonts.gstatic.com\" rel=\"preconnect\"/>\n",
       "<style type=\"text/css\">@font-face{font-family:'Roboto';font-style:normal;font-weight:300;font-display:swap;src:url(https://fonts.gstatic.com/s/roboto/v27/KFOlCnqEu92Fr1MmSU5fCRc4AMP6lbBP.woff2) format('woff2');unicode-range:U+0460-052F, U+1C80-1C88, U+20B4, U+2DE0-2DFF, U+A640-A69F, U+FE2E-FE2F;}@font-face{font-family:'Roboto';font-style:normal;font-weight:300;font-display:swap;src:url(https://fonts.gstatic.com/s/roboto/v27/KFOlCnqEu92Fr1MmSU5fABc4AMP6lbBP.woff2) format('woff2');unicode-range:U+0400-045F, U+0490-0491, U+04B0-04B1, U+2116;}@font-face{font-family:'Roboto';font-style:normal;font-weight:300;font-display:swap;src:url(https://fonts.gstatic.com/s/roboto/v27/KFOlCnqEu92Fr1MmSU5fCBc4AMP6lbBP.woff2) format('woff2');unicode-range:U+1F00-1FFF;}@font-face{font-family:'Roboto';font-style:normal;font-weight:300;font-display:swap;src:url(https://fonts.gstatic.com/s/roboto/v27/KFOlCnqEu92Fr1MmSU5fBxc4AMP6lbBP.woff2) format('woff2');unicode-range:U+0370-03FF;}@font-face{font-family:'Roboto';font-style:normal;font-weight:300;font-display:swap;src:url(https://fonts.gstatic.com/s/roboto/v27/KFOlCnqEu92Fr1MmSU5fCxc4AMP6lbBP.woff2) format('woff2');unicode-range:U+0102-0103, U+0110-0111, U+0128-0129, U+0168-0169, U+01A0-01A1, U+01AF-01B0, U+1EA0-1EF9, U+20AB;}@font-face{font-family:'Roboto';font-style:normal;font-weight:300;font-display:swap;src:url(https://fonts.gstatic.com/s/roboto/v27/KFOlCnqEu92Fr1MmSU5fChc4AMP6lbBP.woff2) format('woff2');unicode-range:U+0100-024F, U+0259, U+1E00-1EFF, U+2020, U+20A0-20AB, U+20AD-20CF, U+2113, U+2C60-2C7F, U+A720-A7FF;}@font-face{font-family:'Roboto';font-style:normal;font-weight:300;font-display:swap;src:url(https://fonts.gstatic.com/s/roboto/v27/KFOlCnqEu92Fr1MmSU5fBBc4AMP6lQ.woff2) format('woff2');unicode-range:U+0000-00FF, U+0131, U+0152-0153, U+02BB-02BC, U+02C6, U+02DA, U+02DC, U+2000-206F, U+2074, U+20AC, U+2122, U+2191, U+2193, U+2212, U+2215, U+FEFF, U+FFFD;}@font-face{font-family:'Roboto';font-style:normal;font-weight:400;font-display:swap;src:url(https://fonts.gstatic.com/s/roboto/v27/KFOmCnqEu92Fr1Mu72xKKTU1Kvnz.woff2) format('woff2');unicode-range:U+0460-052F, U+1C80-1C88, U+20B4, U+2DE0-2DFF, U+A640-A69F, U+FE2E-FE2F;}@font-face{font-family:'Roboto';font-style:normal;font-weight:400;font-display:swap;src:url(https://fonts.gstatic.com/s/roboto/v27/KFOmCnqEu92Fr1Mu5mxKKTU1Kvnz.woff2) format('woff2');unicode-range:U+0400-045F, U+0490-0491, U+04B0-04B1, U+2116;}@font-face{font-family:'Roboto';font-style:normal;font-weight:400;font-display:swap;src:url(https://fonts.gstatic.com/s/roboto/v27/KFOmCnqEu92Fr1Mu7mxKKTU1Kvnz.woff2) format('woff2');unicode-range:U+1F00-1FFF;}@font-face{font-family:'Roboto';font-style:normal;font-weight:400;font-display:swap;src:url(https://fonts.gstatic.com/s/roboto/v27/KFOmCnqEu92Fr1Mu4WxKKTU1Kvnz.woff2) format('woff2');unicode-range:U+0370-03FF;}@font-face{font-family:'Roboto';font-style:normal;font-weight:400;font-display:swap;src:url(https://fonts.gstatic.com/s/roboto/v27/KFOmCnqEu92Fr1Mu7WxKKTU1Kvnz.woff2) format('woff2');unicode-range:U+0102-0103, U+0110-0111, U+0128-0129, U+0168-0169, U+01A0-01A1, U+01AF-01B0, U+1EA0-1EF9, U+20AB;}@font-face{font-family:'Roboto';font-style:normal;font-weight:400;font-display:swap;src:url(https://fonts.gstatic.com/s/roboto/v27/KFOmCnqEu92Fr1Mu7GxKKTU1Kvnz.woff2) format('woff2');unicode-range:U+0100-024F, U+0259, U+1E00-1EFF, U+2020, U+20A0-20AB, U+20AD-20CF, U+2113, U+2C60-2C7F, U+A720-A7FF;}@font-face{font-family:'Roboto';font-style:normal;font-weight:400;font-display:swap;src:url(https://fonts.gstatic.com/s/roboto/v27/KFOmCnqEu92Fr1Mu4mxKKTU1Kg.woff2) format('woff2');unicode-range:U+0000-00FF, U+0131, U+0152-0153, U+02BB-02BC, U+02C6, U+02DA, U+02DC, U+2000-206F, U+2074, U+20AC, U+2122, U+2191, U+2193, U+2212, U+2215, U+FEFF, U+FFFD;}@font-face{font-family:'Roboto';font-style:normal;font-weight:500;font-display:swap;src:url(https://fonts.gstatic.com/s/roboto/v27/KFOlCnqEu92Fr1MmEU9fCRc4AMP6lbBP.woff2) format('woff2');unicode-range:U+0460-052F, U+1C80-1C88, U+20B4, U+2DE0-2DFF, U+A640-A69F, U+FE2E-FE2F;}@font-face{font-family:'Roboto';font-style:normal;font-weight:500;font-display:swap;src:url(https://fonts.gstatic.com/s/roboto/v27/KFOlCnqEu92Fr1MmEU9fABc4AMP6lbBP.woff2) format('woff2');unicode-range:U+0400-045F, U+0490-0491, U+04B0-04B1, U+2116;}@font-face{font-family:'Roboto';font-style:normal;font-weight:500;font-display:swap;src:url(https://fonts.gstatic.com/s/roboto/v27/KFOlCnqEu92Fr1MmEU9fCBc4AMP6lbBP.woff2) format('woff2');unicode-range:U+1F00-1FFF;}@font-face{font-family:'Roboto';font-style:normal;font-weight:500;font-display:swap;src:url(https://fonts.gstatic.com/s/roboto/v27/KFOlCnqEu92Fr1MmEU9fBxc4AMP6lbBP.woff2) format('woff2');unicode-range:U+0370-03FF;}@font-face{font-family:'Roboto';font-style:normal;font-weight:500;font-display:swap;src:url(https://fonts.gstatic.com/s/roboto/v27/KFOlCnqEu92Fr1MmEU9fCxc4AMP6lbBP.woff2) format('woff2');unicode-range:U+0102-0103, U+0110-0111, U+0128-0129, U+0168-0169, U+01A0-01A1, U+01AF-01B0, U+1EA0-1EF9, U+20AB;}@font-face{font-family:'Roboto';font-style:normal;font-weight:500;font-display:swap;src:url(https://fonts.gstatic.com/s/roboto/v27/KFOlCnqEu92Fr1MmEU9fChc4AMP6lbBP.woff2) format('woff2');unicode-range:U+0100-024F, U+0259, U+1E00-1EFF, U+2020, U+20A0-20AB, U+20AD-20CF, U+2113, U+2C60-2C7F, U+A720-A7FF;}@font-face{font-family:'Roboto';font-style:normal;font-weight:500;font-display:swap;src:url(https://fonts.gstatic.com/s/roboto/v27/KFOlCnqEu92Fr1MmEU9fBBc4AMP6lQ.woff2) format('woff2');unicode-range:U+0000-00FF, U+0131, U+0152-0153, U+02BB-02BC, U+02C6, U+02DA, U+02DC, U+2000-206F, U+2074, U+20AC, U+2122, U+2191, U+2193, U+2212, U+2215, U+FEFF, U+FFFD;}</style>\n",
       "<style type=\"text/css\">@font-face{font-family:'Material Icons';font-style:normal;font-weight:400;src:url(https://fonts.gstatic.com/s/materialicons/v87/flUhRq6tzZclQEJ-Vdg-IuiaDsNcIhQ8tQ.woff2) format('woff2');}.material-icons{font-family:'Material Icons';font-weight:normal;font-style:normal;font-size:24px;line-height:1;letter-spacing:normal;text-transform:none;display:inline-block;white-space:nowrap;word-wrap:normal;direction:ltr;-webkit-font-feature-settings:'liga';-webkit-font-smoothing:antialiased;}</style>\n",
       "<script async=\"\" data-ad-client=\"ca-pub-9655830461045889\" src=\"https://pagead2.googlesyndication.com/pagead/js/adsbygoogle.js\"></script>\n",
       "<!-- Global site tag (gtag.js) - Google Analytics -->\n",
       "<script async=\"\" src=\"https://www.googletagmanager.com/gtag/js?id=UA-60726752-3\"></script>\n",
       "<script>\n",
       "    window.dataLayer = window.dataLayer || [];\n",
       "    function gtag() { dataLayer.push(arguments); }\n",
       "    gtag('js', new Date());\n",
       "    gtag('config', 'UA-60726752-3');\n",
       "  </script>\n",
       "<link href=\"styles.bc31d58d1fffbdf64e6b.css\" rel=\"stylesheet\"/><style ng-transition=\"serverApp\">.content[_ngcontent-sc76]{min-height:calc(100vh - 56px - 80px)}</style><style ng-transition=\"serverApp\">[_nghost-sc73]{position:relative;display:block;pointer-events:none}[_nghost-sc73]   .ngx-spinner[_ngcontent-sc73]{transition:350ms linear;display:block;position:absolute;top:5px;left:0}[_nghost-sc73]   .ngx-spinner[_ngcontent-sc73]   .ngx-spinner-icon[_ngcontent-sc73]{width:14px;height:14px;border:2px solid transparent;border-top-color:inherit;border-left-color:inherit;border-radius:50%;-webkit-animation:.4s linear infinite loading-bar-spinner;animation:.4s linear infinite loading-bar-spinner}[_nghost-sc73]   .ngx-bar[_ngcontent-sc73]{transition:width 350ms;position:absolute;top:0;left:0;width:100%;height:2px;border-bottom-right-radius:1px;border-top-right-radius:1px}[dir=rtl]   [_nghost-sc73]   .ngx-bar[_ngcontent-sc73]{right:0;left:unset}[fixed=true][_nghost-sc73]{z-index:10002}[fixed=true][_nghost-sc73]   .ngx-bar[_ngcontent-sc73]{position:fixed}[fixed=true][_nghost-sc73]   .ngx-spinner[_ngcontent-sc73]{position:fixed;top:10px;left:10px}[dir=rtl]   [fixed=true][_nghost-sc73]   .ngx-spinner[_ngcontent-sc73]{right:10px;left:unset}@-webkit-keyframes loading-bar-spinner{0%{transform:rotate(0)}100%{transform:rotate(360deg)}}@keyframes loading-bar-spinner{0%{transform:rotate(0)}100%{transform:rotate(360deg)}}</style><style ng-transition=\"serverApp\">.brandLogo[_ngcontent-sc74]{max-width:39px;margin:0 13px}li[_ngcontent-sc74]   a.nav-link[_ngcontent-sc74]{color:#fff}.notificationImg[_ngcontent-sc74]{width:30px;filter:invert(1)}.notification-bell[_ngcontent-sc74]{position:absolute;right:0}.dropdown-toggle[_ngcontent-sc74]{font-weight:700}.dropdown-menu-notify[_ngcontent-sc74]{overflow-y:scroll;overflow-x:hidden;max-height:400px;top:60px;right:-1px;left:unset;width:460px;box-shadow:0 5px 7px -1px #c1c1c1;padding:0}ul[_ngcontent-sc74]   ul[_ngcontent-sc74]   a[_ngcontent-sc74]{background:transparent}.dropdown-menu-notify[_ngcontent-sc74]:before{content:\"\";position:absolute;top:-20px;right:12px;border:10px solid transparent;border-bottom-color:#fff}.head-notify[_ngcontent-sc74]{padding:5px 15px;border-radius:3px 3px 0 0}.footer-notify[_ngcontent-sc74]{padding:5px 15px;border-radius:0 0 3px 3px}.notification-box-notify[_ngcontent-sc74]{padding:10px 0}.bg-gray-notify[_ngcontent-sc74]{background-color:#eee}@media (max-width:640px){.dropdown-menu-notify[_ngcontent-sc74]{top:50px;left:-16px;width:290px}.nav-notify[_ngcontent-sc74]{display:block}.nav-notify[_ngcontent-sc74]   .nav-item-notify[_ngcontent-sc74], .nav-notify[_ngcontent-sc74]   .nav-item-notify[_ngcontent-sc74]   a[_ngcontent-sc74]{padding-left:0}.message-notify[_ngcontent-sc74]{font-size:13px}}.loginError[_ngcontent-sc74]{color:red;padding:3px 2px}div.alert[_ngcontent-sc74]{margin:0}input.ng-touched.ng-invalid[_ngcontent-sc74], textarea.ng-touched.ng-invalid[_ngcontent-sc74]{border-color:red}.forgot[_ngcontent-sc74]{font-size:14px;color:#000;text-align:left;text-decoration:underline;cursor:pointer;padding:16px 0}.googleAuth[_ngcontent-sc74]{width:46%;cursor:pointer;border:1px solid #000;border-radius:3px;background:#60a3dd;margin-top:1px}.or[_ngcontent-sc74]{font-weight:500;font-size:19px}.modal-header[_ngcontent-sc74]{display:flex;align-items:center;justify-content:center;flex-direction:column}.modal-header[_ngcontent-sc74]   span[_ngcontent-sc74]{position:absolute;top:15px;right:20px}.navbar-brand[_ngcontent-sc74]{margin:0;padding:0}</style><style ng-transition=\"serverApp\">footer[_ngcontent-sc75]{color:#fff}</style><style ng-transition=\"serverApp\">.btn[_ngcontent-sc67]{margin:0 3px}</style><meta content=\"Code With Harry is my attempt to teach basics and those coding techniques to people in short time which took me ages to learn. At Code With Harry, I provide a quick and to the point demo along with resources of anything and everything I teach. Source code and other resources are hosted on my website CodeWithHarry.com. I provide source code(if any) in the description of every video.\" name=\"description\"/></head>\n",
       "<body>\n",
       "<app-root _nghost-sc76=\"\" ng-version=\"11.2.11\"><ngx-loading-bar _ngcontent-sc76=\"\" _nghost-sc73=\"\" fixed=\"true\" style=\"color:red;\"><!-- --></ngx-loading-bar><ngx-loading-bar _ngcontent-sc76=\"\" _nghost-sc73=\"\" fixed=\"true\" style=\"color:red;\"><!-- --></ngx-loading-bar><app-header _ngcontent-sc76=\"\" _nghost-sc74=\"\"><!-- --><nav _ngcontent-sc74=\"\" class=\"navbar navbar-expand-lg navbar-dark bg-dark\"><a _ngcontent-sc74=\"\" class=\"navbar-brand\" href=\"/\" routerlink=\"/\"><img _ngcontent-sc74=\"\" alt=\"CodeWithHarry\" class=\"brandLogo\" height=\"39px\" src=\"../../../assets/img/logo.png\" width=\"39px\"/></a><button _ngcontent-sc74=\"\" aria-controls=\"navbarSupportedContent\" aria-expanded=\"false\" aria-label=\"Toggle navigation\" class=\"navbar-toggler\" data-target=\"#navbarSupportedContent\" data-toggle=\"collapse\" type=\"button\"><span _ngcontent-sc74=\"\" class=\"navbar-toggler-icon\"></span></button><div _ngcontent-sc74=\"\" class=\"collapse navbar-collapse\" id=\"navbarSupportedContent\"><ul _ngcontent-sc74=\"\" class=\"navbar-nav mr-auto\"><li _ngcontent-sc74=\"\" class=\"nav-item font-weight-bold\"><a _ngcontent-sc74=\"\" class=\"nav-link\" href=\"/\" routerlink=\"/\">Home</a></li><li _ngcontent-sc74=\"\" class=\"nav-item font-weight-bold\"><a _ngcontent-sc74=\"\" class=\"nav-link\" href=\"/videos\" routerlink=\"/videos\">Videos</a></li><li _ngcontent-sc74=\"\" class=\"nav-item font-weight-bold\"><a _ngcontent-sc74=\"\" class=\"nav-link\" href=\"/blog\" routerlink=\"/blog\">Blog</a></li><li _ngcontent-sc74=\"\" class=\"nav-item font-weight-bold\"><a _ngcontent-sc74=\"\" class=\"nav-link\" href=\"/contact\" routerlink=\"/contact\">Contact Me</a></li></ul><form _ngcontent-sc74=\"\" class=\"form-inline my-2 my-lg-0 mr-3 ng-untouched ng-pristine ng-valid\" novalidate=\"\"><input _ngcontent-sc74=\"\" aria-label=\"Search\" class=\"form-control mr-sm-2 ng-untouched ng-pristine ng-valid\" name=\"query\" placeholder=\"Search\" type=\"text\" value=\"\"/><button _ngcontent-sc74=\"\" class=\"btn btn-danger my-2 my-sm-0\" type=\"submit\">Search</button></form><div _ngcontent-sc74=\"\" class=\"mx-0\"><button _ngcontent-sc74=\"\" class=\"btn btn-danger mr-2\" data-target=\"#loginModal\" data-toggle=\"modal\" type=\"button\">Login</button><button _ngcontent-sc74=\"\" class=\"btn btn-danger\" data-target=\"#signupModal\" data-toggle=\"modal\" type=\"button\">SignUp</button></div><!-- --><!-- --></div></nav><div _ngcontent-sc74=\"\" aria-hidden=\"true\" aria-labelledby=\"loginModal\" class=\"modal fade\" id=\"loginModal\" role=\"dialog\" tabindex=\"-1\"><div _ngcontent-sc74=\"\" class=\"modal-dialog\" role=\"document\"><div _ngcontent-sc74=\"\" class=\"modal-content\"><div _ngcontent-sc74=\"\" class=\"modal-header\"><img _ngcontent-sc74=\"\" alt=\"Login with Google\" class=\"googleAuth mx-2\" height=\"42.75px\" src=\"../../../assets/img/googleLogin.png\" width=\"25%\"/><div _ngcontent-sc74=\"\" class=\"or mx-3\"> or </div><h5 _ngcontent-sc74=\"\" class=\"modal-title\" id=\"loginModalTitle\">Login via username</h5><button _ngcontent-sc74=\"\" aria-label=\"Close\" class=\"close\" data-dismiss=\"modal\" type=\"button\"><span _ngcontent-sc74=\"\" aria-hidden=\"true\">×</span></button></div><div _ngcontent-sc74=\"\" class=\"modal-body\"><form _ngcontent-sc74=\"\" class=\"ng-untouched ng-pristine ng-invalid\" method=\"post\" novalidate=\"\"><div _ngcontent-sc74=\"\" class=\"form-group\"><label _ngcontent-sc74=\"\" for=\"username\">Username</label><input _ngcontent-sc74=\"\" class=\"form-control ng-untouched ng-pristine ng-invalid\" id=\"username\" maxlength=\"10\" minlength=\"2\" name=\"username\" pattern=\"[a-zA-Z0-9 ]*\" placeholder=\"Enter your username\" required=\"\" type=\"text\" value=\"\"/><!-- --></div><div _ngcontent-sc74=\"\" class=\"form-group\"><label _ngcontent-sc74=\"\" for=\"loginpassword\">Password</label><input _ngcontent-sc74=\"\" class=\"form-control ng-untouched ng-pristine ng-invalid\" id=\"loginpassword\" name=\"loginpassword\" placeholder=\"Enter your password\" required=\"\" type=\"password\" value=\"\"/></div><button _ngcontent-sc74=\"\" class=\"btn btn-danger mt-2\" disabled=\"\" id=\"loginsubmit\" type=\"submit\"><!-- --> Login</button></form><!-- --><!-- --><!-- --><div _ngcontent-sc74=\"\" class=\"forgot\"><span _ngcontent-sc74=\"\">Forgot Password?</span></div></div><div _ngcontent-sc74=\"\" class=\"modal-footer\"><button _ngcontent-sc74=\"\" class=\"btn btn-secondary\" data-dismiss=\"modal\" type=\"button\">Close</button></div></div></div></div><div _ngcontent-sc74=\"\" aria-hidden=\"true\" aria-labelledby=\"signupModal\" class=\"modal fade\" id=\"signupModal\" role=\"dialog\" tabindex=\"-1\"><div _ngcontent-sc74=\"\" class=\"modal-dialog\" role=\"document\"><div _ngcontent-sc74=\"\" class=\"modal-content\"><div _ngcontent-sc74=\"\" class=\"modal-header\"><img _ngcontent-sc74=\"\" alt=\"Signup with Google\" class=\"googleAuth mx-2\" height=\"42.75px\" src=\"../../../assets/img/googleSignUp.png\" width=\"25%\"/><div _ngcontent-sc74=\"\" class=\"or mx-3\"> or </div><h5 _ngcontent-sc74=\"\" class=\"modal-title\" id=\"signupModal\">SignUp for an account</h5><button _ngcontent-sc74=\"\" aria-label=\"Close\" class=\"close\" data-dismiss=\"modal\" type=\"button\"><span _ngcontent-sc74=\"\" aria-hidden=\"true\">×</span></button></div><div _ngcontent-sc74=\"\" class=\"modal-body\"><form _ngcontent-sc74=\"\" class=\"ng-untouched ng-pristine ng-invalid\" method=\"post\" novalidate=\"\"><div _ngcontent-sc74=\"\" class=\"form-group\"><label _ngcontent-sc74=\"\" for=\"uname\">Username</label><input _ngcontent-sc74=\"\" class=\"form-control ng-untouched ng-pristine ng-invalid\" id=\"signupUserName\" maxlength=\"10\" minlength=\"4\" name=\"signupUserName\" ngmodel=\"\" pattern=\"[a-zA-Z0-9_ ]*\" placeholder=\"Enter your username\" required=\"\" type=\"text\" value=\"\"/><!-- --><small _ngcontent-sc74=\"\" class=\"form-text text-muted px-1\" id=\"unamehelp\"> Your unique username must 4 - 10 characters (only lowecase letters, numbers &amp; underscores allowed) with no spaces </small></div><div _ngcontent-sc74=\"\" class=\"form-group\"><label _ngcontent-sc74=\"\" for=\"signupName\">Name</label><input _ngcontent-sc74=\"\" class=\"form-control ng-untouched ng-pristine ng-valid\" id=\"signupName\" maxlength=\"30\" name=\"signupName\" ngmodel=\"\" placeholder=\"Enter your Name\" type=\"text\" value=\"\"/></div><div _ngcontent-sc74=\"\" class=\"form-group\"><label _ngcontent-sc74=\"\" for=\"email\">Your Email</label><div _ngcontent-sc74=\"\" class=\"mx-0\"><div _ngcontent-sc74=\"\" class=\"col-md-8 px-0\"><input _ngcontent-sc74=\"\" class=\"form-control ng-untouched ng-pristine ng-invalid\" email=\"\" id=\"signupEmail\" maxlength=\"40\" name=\"signupEmail\" placeholder=\"Enter your Email\" required=\"\" type=\"email\" value=\"\"/><!-- --><!-- --></div><div _ngcontent-sc74=\"\" class=\"col-md-4 my-1 px-0\"><button _ngcontent-sc74=\"\" class=\"btn btn-danger btn-sm mt-2\" disabled=\"\" id=\"otpbtn\" type=\"button\"><!-- --> Send OTP</button></div></div></div><div _ngcontent-sc74=\"\" class=\"form-group\"><label _ngcontent-sc74=\"\" for=\"otp\">Enter OTP</label><input _ngcontent-sc74=\"\" class=\"form-control ng-untouched ng-pristine ng-invalid\" id=\"signupOTP\" name=\"signupOTP\" ngmodel=\"\" placeholder=\"Enter OTP\" required=\"\" type=\"number\" value=\"\"/></div><div _ngcontent-sc74=\"\" class=\"form-group\"><label _ngcontent-sc74=\"\" for=\"signupPassword1\">Choose a password (At least 4 characters)</label><input _ngcontent-sc74=\"\" class=\"form-control ng-untouched ng-pristine ng-valid\" id=\"signupPassword1\" maxlength=\"20\" minlength=\"4\" name=\"signupPassword1\" ngmodel=\"\" placeholder=\"Choose a password\" type=\"password\" value=\"\"/></div><div _ngcontent-sc74=\"\" class=\"form-group mb-0\"><label _ngcontent-sc74=\"\" for=\"signupPassword2\">Retype your password</label><input _ngcontent-sc74=\"\" class=\"form-control ng-untouched ng-pristine ng-valid\" id=\"signupPassword2\" maxlength=\"20\" minlength=\"4\" name=\"signupPassword2\" ngmodel=\"\" placeholder=\"Retype your password\" type=\"password\" value=\"\"/></div><!-- --><!-- --><!-- --><!-- --><button _ngcontent-sc74=\"\" class=\"btn btn-danger mt-4\" disabled=\"\" type=\"submit\"><!-- --> SignUp</button></form></div><div _ngcontent-sc74=\"\" class=\"modal-footer\"><button _ngcontent-sc74=\"\" class=\"btn btn-secondary\" data-dismiss=\"modal\" type=\"button\">Close</button></div></div></div></div></app-header><div _ngcontent-sc76=\"\" class=\"content\"><router-outlet _ngcontent-sc76=\"\"></router-outlet><app-homepage _nghost-sc67=\"\"><section _ngcontent-sc67=\"\" class=\"jumbotron text-center\"><div _ngcontent-sc67=\"\" class=\"container\"><img _ngcontent-sc67=\"\" alt=\"logo\" src=\"../../../assets/img/logo.png\" width=\"120\"/><h1 _ngcontent-sc67=\"\" class=\"jumbotron-heading\"><span _ngcontent-sc67=\"\" id=\"typed\"></span></h1><p _ngcontent-sc67=\"\" class=\"lead text-muted\">Confused on which course to take? I have got you covered. Browse courses and find out the best course for you. Its free!<br _ngcontent-sc67=\"\"/>Code With Harry is my attempt to teach basics and those coding techniques to people in short time which took me ages to learn.</p><p _ngcontent-sc67=\"\"><a _ngcontent-sc67=\"\" class=\"btn btn-danger my-2\" href=\"/blog\" routerlink=\"/blog\">Browse Blog</a><a _ngcontent-sc67=\"\" class=\"btn btn-success my-2\" href=\"/videos\" routerlink=\"/videos\">Browse Video Tutorials</a><a _ngcontent-sc67=\"\" class=\"btn btn-primary my-2\" href=\"/contact\" routerlink=\"/contact\">Contact Me</a></p></div></section><div _ngcontent-sc67=\"\" class=\"container\"><div _ngcontent-sc67=\"\" class=\"row\"><div _ngcontent-sc67=\"\" class=\"card mx-auto my-2 p-2 align-items-center\" style=\"width: 18rem;\"><img _ngcontent-sc67=\"\" alt=\"...\" class=\"padded card-img-top\" src=\"../../../assets/img/home-img-1.jpg\"/><div _ngcontent-sc67=\"\" class=\"card-body\"><h5 _ngcontent-sc67=\"\" class=\"card-title text-center\">Free Video Courses</h5><p _ngcontent-sc67=\"\" class=\"card-text text-center\">Get your programming career started with these free video courses. Source code is available with all the videos for amazing learning experience</p><a _ngcontent-sc67=\"\" class=\"btn btn-primary d-block\" href=\"/videos\" routerlink=\"/videos\">Browse Video Courses</a></div></div><div _ngcontent-sc67=\"\" class=\"card mx-auto my-2 p-2 align-items-center\" style=\"width: 18rem;\"><img _ngcontent-sc67=\"\" alt=\"...\" class=\"padded card-img-top\" src=\"../../../assets/img/home-img-2.jpg\"/><div _ngcontent-sc67=\"\" class=\"card-body\"><h5 _ngcontent-sc67=\"\" class=\"card-title text-center\">Coding Articles</h5><p _ngcontent-sc67=\"\" class=\"card-text text-center\">Some of the latest coding information compiled in the form of coding articles. Keep your programming knowledge up to date with these articles.</p><a _ngcontent-sc67=\"\" class=\"btn btn-primary d-block\" href=\"/blog\" routerlink=\"/blog\">Go to Blog</a></div></div><div _ngcontent-sc67=\"\" class=\"card mx-auto my-2 p-2 align-items-center\" style=\"width: 18rem;\"><img _ngcontent-sc67=\"\" alt=\"...\" class=\"padded card-img-top\" src=\"../../../assets/img/home-img-3.jpg\"/><div _ngcontent-sc67=\"\" class=\"card-body\"><h5 _ngcontent-sc67=\"\" class=\"card-title text-center\">Contact Me</h5><p _ngcontent-sc67=\"\" class=\"card-text text-center\">Learn programming from these free courses. Examples are available with these tutorials. You can contact me for any doubt and I will get back to you!</p><a _ngcontent-sc67=\"\" class=\"btn btn-primary d-block\" href=\"/contact\" routerlink=\"/contact\">Contact Me</a></div></div></div></div></app-homepage><!-- --></div><app-footer _ngcontent-sc76=\"\" _nghost-sc75=\"\"><footer _ngcontent-sc75=\"\" class=\"container-fluid bg-dark my-0 py-3 text-light\"><p _ngcontent-sc75=\"\" class=\"mb-0 text-center\">Copyright © 2020-2021 CodeWithHarry.com</p></footer></app-footer></app-root>\n",
       "<script defer=\"\" src=\"runtime.7b63b9fd40098a2e8207.js\"></script><script defer=\"\" src=\"polyfills.00096ed7d93ed26ee6df.js\"></script><script defer=\"\" src=\"scripts.2558b03aa1b9660ed84d.js\"></script><script defer=\"\" src=\"main.bd8a3a7a366ac101c3dc.js\"></script>\n",
       "<script id=\"serverApp-state\" type=\"application/json\">{}</script></body><!-- This page was prerendered with Angular Universal --></html>"
      ]
     },
     "execution_count": 11,
     "metadata": {},
     "output_type": "execute_result"
    }
   ],
   "source": [
    "soup\n",
    "# it somehow it prettify the content"
   ]
  },
  {
   "cell_type": "code",
   "execution_count": 12,
   "id": "92c531cd",
   "metadata": {
    "scrolled": false
   },
   "outputs": [
    {
     "name": "stdout",
     "output_type": "stream",
     "text": [
      "<bound method Tag.prettify of <!DOCTYPE html>\n",
      "<html lang=\"en\"><head>\n",
      "<meta charset=\"utf-8\"/>\n",
      "<title>Home - CodeWithHarry</title>\n",
      "<base href=\"/\"/>\n",
      "<meta content=\"width=device-width, initial-scale=1\" name=\"viewport\"/>\n",
      "<link href=\"favicon.ico\" rel=\"icon\" type=\"image/x-icon\"/>\n",
      "<link href=\"https://fonts.gstatic.com\" rel=\"preconnect\"/>\n",
      "<style type=\"text/css\">@font-face{font-family:'Roboto';font-style:normal;font-weight:300;font-display:swap;src:url(https://fonts.gstatic.com/s/roboto/v27/KFOlCnqEu92Fr1MmSU5fCRc4AMP6lbBP.woff2) format('woff2');unicode-range:U+0460-052F, U+1C80-1C88, U+20B4, U+2DE0-2DFF, U+A640-A69F, U+FE2E-FE2F;}@font-face{font-family:'Roboto';font-style:normal;font-weight:300;font-display:swap;src:url(https://fonts.gstatic.com/s/roboto/v27/KFOlCnqEu92Fr1MmSU5fABc4AMP6lbBP.woff2) format('woff2');unicode-range:U+0400-045F, U+0490-0491, U+04B0-04B1, U+2116;}@font-face{font-family:'Roboto';font-style:normal;font-weight:300;font-display:swap;src:url(https://fonts.gstatic.com/s/roboto/v27/KFOlCnqEu92Fr1MmSU5fCBc4AMP6lbBP.woff2) format('woff2');unicode-range:U+1F00-1FFF;}@font-face{font-family:'Roboto';font-style:normal;font-weight:300;font-display:swap;src:url(https://fonts.gstatic.com/s/roboto/v27/KFOlCnqEu92Fr1MmSU5fBxc4AMP6lbBP.woff2) format('woff2');unicode-range:U+0370-03FF;}@font-face{font-family:'Roboto';font-style:normal;font-weight:300;font-display:swap;src:url(https://fonts.gstatic.com/s/roboto/v27/KFOlCnqEu92Fr1MmSU5fCxc4AMP6lbBP.woff2) format('woff2');unicode-range:U+0102-0103, U+0110-0111, U+0128-0129, U+0168-0169, U+01A0-01A1, U+01AF-01B0, U+1EA0-1EF9, U+20AB;}@font-face{font-family:'Roboto';font-style:normal;font-weight:300;font-display:swap;src:url(https://fonts.gstatic.com/s/roboto/v27/KFOlCnqEu92Fr1MmSU5fChc4AMP6lbBP.woff2) format('woff2');unicode-range:U+0100-024F, U+0259, U+1E00-1EFF, U+2020, U+20A0-20AB, U+20AD-20CF, U+2113, U+2C60-2C7F, U+A720-A7FF;}@font-face{font-family:'Roboto';font-style:normal;font-weight:300;font-display:swap;src:url(https://fonts.gstatic.com/s/roboto/v27/KFOlCnqEu92Fr1MmSU5fBBc4AMP6lQ.woff2) format('woff2');unicode-range:U+0000-00FF, U+0131, U+0152-0153, U+02BB-02BC, U+02C6, U+02DA, U+02DC, U+2000-206F, U+2074, U+20AC, U+2122, U+2191, U+2193, U+2212, U+2215, U+FEFF, U+FFFD;}@font-face{font-family:'Roboto';font-style:normal;font-weight:400;font-display:swap;src:url(https://fonts.gstatic.com/s/roboto/v27/KFOmCnqEu92Fr1Mu72xKKTU1Kvnz.woff2) format('woff2');unicode-range:U+0460-052F, U+1C80-1C88, U+20B4, U+2DE0-2DFF, U+A640-A69F, U+FE2E-FE2F;}@font-face{font-family:'Roboto';font-style:normal;font-weight:400;font-display:swap;src:url(https://fonts.gstatic.com/s/roboto/v27/KFOmCnqEu92Fr1Mu5mxKKTU1Kvnz.woff2) format('woff2');unicode-range:U+0400-045F, U+0490-0491, U+04B0-04B1, U+2116;}@font-face{font-family:'Roboto';font-style:normal;font-weight:400;font-display:swap;src:url(https://fonts.gstatic.com/s/roboto/v27/KFOmCnqEu92Fr1Mu7mxKKTU1Kvnz.woff2) format('woff2');unicode-range:U+1F00-1FFF;}@font-face{font-family:'Roboto';font-style:normal;font-weight:400;font-display:swap;src:url(https://fonts.gstatic.com/s/roboto/v27/KFOmCnqEu92Fr1Mu4WxKKTU1Kvnz.woff2) format('woff2');unicode-range:U+0370-03FF;}@font-face{font-family:'Roboto';font-style:normal;font-weight:400;font-display:swap;src:url(https://fonts.gstatic.com/s/roboto/v27/KFOmCnqEu92Fr1Mu7WxKKTU1Kvnz.woff2) format('woff2');unicode-range:U+0102-0103, U+0110-0111, U+0128-0129, U+0168-0169, U+01A0-01A1, U+01AF-01B0, U+1EA0-1EF9, U+20AB;}@font-face{font-family:'Roboto';font-style:normal;font-weight:400;font-display:swap;src:url(https://fonts.gstatic.com/s/roboto/v27/KFOmCnqEu92Fr1Mu7GxKKTU1Kvnz.woff2) format('woff2');unicode-range:U+0100-024F, U+0259, U+1E00-1EFF, U+2020, U+20A0-20AB, U+20AD-20CF, U+2113, U+2C60-2C7F, U+A720-A7FF;}@font-face{font-family:'Roboto';font-style:normal;font-weight:400;font-display:swap;src:url(https://fonts.gstatic.com/s/roboto/v27/KFOmCnqEu92Fr1Mu4mxKKTU1Kg.woff2) format('woff2');unicode-range:U+0000-00FF, U+0131, U+0152-0153, U+02BB-02BC, U+02C6, U+02DA, U+02DC, U+2000-206F, U+2074, U+20AC, U+2122, U+2191, U+2193, U+2212, U+2215, U+FEFF, U+FFFD;}@font-face{font-family:'Roboto';font-style:normal;font-weight:500;font-display:swap;src:url(https://fonts.gstatic.com/s/roboto/v27/KFOlCnqEu92Fr1MmEU9fCRc4AMP6lbBP.woff2) format('woff2');unicode-range:U+0460-052F, U+1C80-1C88, U+20B4, U+2DE0-2DFF, U+A640-A69F, U+FE2E-FE2F;}@font-face{font-family:'Roboto';font-style:normal;font-weight:500;font-display:swap;src:url(https://fonts.gstatic.com/s/roboto/v27/KFOlCnqEu92Fr1MmEU9fABc4AMP6lbBP.woff2) format('woff2');unicode-range:U+0400-045F, U+0490-0491, U+04B0-04B1, U+2116;}@font-face{font-family:'Roboto';font-style:normal;font-weight:500;font-display:swap;src:url(https://fonts.gstatic.com/s/roboto/v27/KFOlCnqEu92Fr1MmEU9fCBc4AMP6lbBP.woff2) format('woff2');unicode-range:U+1F00-1FFF;}@font-face{font-family:'Roboto';font-style:normal;font-weight:500;font-display:swap;src:url(https://fonts.gstatic.com/s/roboto/v27/KFOlCnqEu92Fr1MmEU9fBxc4AMP6lbBP.woff2) format('woff2');unicode-range:U+0370-03FF;}@font-face{font-family:'Roboto';font-style:normal;font-weight:500;font-display:swap;src:url(https://fonts.gstatic.com/s/roboto/v27/KFOlCnqEu92Fr1MmEU9fCxc4AMP6lbBP.woff2) format('woff2');unicode-range:U+0102-0103, U+0110-0111, U+0128-0129, U+0168-0169, U+01A0-01A1, U+01AF-01B0, U+1EA0-1EF9, U+20AB;}@font-face{font-family:'Roboto';font-style:normal;font-weight:500;font-display:swap;src:url(https://fonts.gstatic.com/s/roboto/v27/KFOlCnqEu92Fr1MmEU9fChc4AMP6lbBP.woff2) format('woff2');unicode-range:U+0100-024F, U+0259, U+1E00-1EFF, U+2020, U+20A0-20AB, U+20AD-20CF, U+2113, U+2C60-2C7F, U+A720-A7FF;}@font-face{font-family:'Roboto';font-style:normal;font-weight:500;font-display:swap;src:url(https://fonts.gstatic.com/s/roboto/v27/KFOlCnqEu92Fr1MmEU9fBBc4AMP6lQ.woff2) format('woff2');unicode-range:U+0000-00FF, U+0131, U+0152-0153, U+02BB-02BC, U+02C6, U+02DA, U+02DC, U+2000-206F, U+2074, U+20AC, U+2122, U+2191, U+2193, U+2212, U+2215, U+FEFF, U+FFFD;}</style>\n",
      "<style type=\"text/css\">@font-face{font-family:'Material Icons';font-style:normal;font-weight:400;src:url(https://fonts.gstatic.com/s/materialicons/v87/flUhRq6tzZclQEJ-Vdg-IuiaDsNcIhQ8tQ.woff2) format('woff2');}.material-icons{font-family:'Material Icons';font-weight:normal;font-style:normal;font-size:24px;line-height:1;letter-spacing:normal;text-transform:none;display:inline-block;white-space:nowrap;word-wrap:normal;direction:ltr;-webkit-font-feature-settings:'liga';-webkit-font-smoothing:antialiased;}</style>\n",
      "<script async=\"\" data-ad-client=\"ca-pub-9655830461045889\" src=\"https://pagead2.googlesyndication.com/pagead/js/adsbygoogle.js\"></script>\n",
      "<!-- Global site tag (gtag.js) - Google Analytics -->\n",
      "<script async=\"\" src=\"https://www.googletagmanager.com/gtag/js?id=UA-60726752-3\"></script>\n",
      "<script>\n",
      "    window.dataLayer = window.dataLayer || [];\n",
      "    function gtag() { dataLayer.push(arguments); }\n",
      "    gtag('js', new Date());\n",
      "    gtag('config', 'UA-60726752-3');\n",
      "  </script>\n",
      "<link href=\"styles.bc31d58d1fffbdf64e6b.css\" rel=\"stylesheet\"/><style ng-transition=\"serverApp\">.content[_ngcontent-sc76]{min-height:calc(100vh - 56px - 80px)}</style><style ng-transition=\"serverApp\">[_nghost-sc73]{position:relative;display:block;pointer-events:none}[_nghost-sc73]   .ngx-spinner[_ngcontent-sc73]{transition:350ms linear;display:block;position:absolute;top:5px;left:0}[_nghost-sc73]   .ngx-spinner[_ngcontent-sc73]   .ngx-spinner-icon[_ngcontent-sc73]{width:14px;height:14px;border:2px solid transparent;border-top-color:inherit;border-left-color:inherit;border-radius:50%;-webkit-animation:.4s linear infinite loading-bar-spinner;animation:.4s linear infinite loading-bar-spinner}[_nghost-sc73]   .ngx-bar[_ngcontent-sc73]{transition:width 350ms;position:absolute;top:0;left:0;width:100%;height:2px;border-bottom-right-radius:1px;border-top-right-radius:1px}[dir=rtl]   [_nghost-sc73]   .ngx-bar[_ngcontent-sc73]{right:0;left:unset}[fixed=true][_nghost-sc73]{z-index:10002}[fixed=true][_nghost-sc73]   .ngx-bar[_ngcontent-sc73]{position:fixed}[fixed=true][_nghost-sc73]   .ngx-spinner[_ngcontent-sc73]{position:fixed;top:10px;left:10px}[dir=rtl]   [fixed=true][_nghost-sc73]   .ngx-spinner[_ngcontent-sc73]{right:10px;left:unset}@-webkit-keyframes loading-bar-spinner{0%{transform:rotate(0)}100%{transform:rotate(360deg)}}@keyframes loading-bar-spinner{0%{transform:rotate(0)}100%{transform:rotate(360deg)}}</style><style ng-transition=\"serverApp\">.brandLogo[_ngcontent-sc74]{max-width:39px;margin:0 13px}li[_ngcontent-sc74]   a.nav-link[_ngcontent-sc74]{color:#fff}.notificationImg[_ngcontent-sc74]{width:30px;filter:invert(1)}.notification-bell[_ngcontent-sc74]{position:absolute;right:0}.dropdown-toggle[_ngcontent-sc74]{font-weight:700}.dropdown-menu-notify[_ngcontent-sc74]{overflow-y:scroll;overflow-x:hidden;max-height:400px;top:60px;right:-1px;left:unset;width:460px;box-shadow:0 5px 7px -1px #c1c1c1;padding:0}ul[_ngcontent-sc74]   ul[_ngcontent-sc74]   a[_ngcontent-sc74]{background:transparent}.dropdown-menu-notify[_ngcontent-sc74]:before{content:\"\";position:absolute;top:-20px;right:12px;border:10px solid transparent;border-bottom-color:#fff}.head-notify[_ngcontent-sc74]{padding:5px 15px;border-radius:3px 3px 0 0}.footer-notify[_ngcontent-sc74]{padding:5px 15px;border-radius:0 0 3px 3px}.notification-box-notify[_ngcontent-sc74]{padding:10px 0}.bg-gray-notify[_ngcontent-sc74]{background-color:#eee}@media (max-width:640px){.dropdown-menu-notify[_ngcontent-sc74]{top:50px;left:-16px;width:290px}.nav-notify[_ngcontent-sc74]{display:block}.nav-notify[_ngcontent-sc74]   .nav-item-notify[_ngcontent-sc74], .nav-notify[_ngcontent-sc74]   .nav-item-notify[_ngcontent-sc74]   a[_ngcontent-sc74]{padding-left:0}.message-notify[_ngcontent-sc74]{font-size:13px}}.loginError[_ngcontent-sc74]{color:red;padding:3px 2px}div.alert[_ngcontent-sc74]{margin:0}input.ng-touched.ng-invalid[_ngcontent-sc74], textarea.ng-touched.ng-invalid[_ngcontent-sc74]{border-color:red}.forgot[_ngcontent-sc74]{font-size:14px;color:#000;text-align:left;text-decoration:underline;cursor:pointer;padding:16px 0}.googleAuth[_ngcontent-sc74]{width:46%;cursor:pointer;border:1px solid #000;border-radius:3px;background:#60a3dd;margin-top:1px}.or[_ngcontent-sc74]{font-weight:500;font-size:19px}.modal-header[_ngcontent-sc74]{display:flex;align-items:center;justify-content:center;flex-direction:column}.modal-header[_ngcontent-sc74]   span[_ngcontent-sc74]{position:absolute;top:15px;right:20px}.navbar-brand[_ngcontent-sc74]{margin:0;padding:0}</style><style ng-transition=\"serverApp\">footer[_ngcontent-sc75]{color:#fff}</style><style ng-transition=\"serverApp\">.btn[_ngcontent-sc67]{margin:0 3px}</style><meta content=\"Code With Harry is my attempt to teach basics and those coding techniques to people in short time which took me ages to learn. At Code With Harry, I provide a quick and to the point demo along with resources of anything and everything I teach. Source code and other resources are hosted on my website CodeWithHarry.com. I provide source code(if any) in the description of every video.\" name=\"description\"/></head>\n",
      "<body>\n",
      "<app-root _nghost-sc76=\"\" ng-version=\"11.2.11\"><ngx-loading-bar _ngcontent-sc76=\"\" _nghost-sc73=\"\" fixed=\"true\" style=\"color:red;\"><!-- --></ngx-loading-bar><ngx-loading-bar _ngcontent-sc76=\"\" _nghost-sc73=\"\" fixed=\"true\" style=\"color:red;\"><!-- --></ngx-loading-bar><app-header _ngcontent-sc76=\"\" _nghost-sc74=\"\"><!-- --><nav _ngcontent-sc74=\"\" class=\"navbar navbar-expand-lg navbar-dark bg-dark\"><a _ngcontent-sc74=\"\" class=\"navbar-brand\" href=\"/\" routerlink=\"/\"><img _ngcontent-sc74=\"\" alt=\"CodeWithHarry\" class=\"brandLogo\" height=\"39px\" src=\"../../../assets/img/logo.png\" width=\"39px\"/></a><button _ngcontent-sc74=\"\" aria-controls=\"navbarSupportedContent\" aria-expanded=\"false\" aria-label=\"Toggle navigation\" class=\"navbar-toggler\" data-target=\"#navbarSupportedContent\" data-toggle=\"collapse\" type=\"button\"><span _ngcontent-sc74=\"\" class=\"navbar-toggler-icon\"></span></button><div _ngcontent-sc74=\"\" class=\"collapse navbar-collapse\" id=\"navbarSupportedContent\"><ul _ngcontent-sc74=\"\" class=\"navbar-nav mr-auto\"><li _ngcontent-sc74=\"\" class=\"nav-item font-weight-bold\"><a _ngcontent-sc74=\"\" class=\"nav-link\" href=\"/\" routerlink=\"/\">Home</a></li><li _ngcontent-sc74=\"\" class=\"nav-item font-weight-bold\"><a _ngcontent-sc74=\"\" class=\"nav-link\" href=\"/videos\" routerlink=\"/videos\">Videos</a></li><li _ngcontent-sc74=\"\" class=\"nav-item font-weight-bold\"><a _ngcontent-sc74=\"\" class=\"nav-link\" href=\"/blog\" routerlink=\"/blog\">Blog</a></li><li _ngcontent-sc74=\"\" class=\"nav-item font-weight-bold\"><a _ngcontent-sc74=\"\" class=\"nav-link\" href=\"/contact\" routerlink=\"/contact\">Contact Me</a></li></ul><form _ngcontent-sc74=\"\" class=\"form-inline my-2 my-lg-0 mr-3 ng-untouched ng-pristine ng-valid\" novalidate=\"\"><input _ngcontent-sc74=\"\" aria-label=\"Search\" class=\"form-control mr-sm-2 ng-untouched ng-pristine ng-valid\" name=\"query\" placeholder=\"Search\" type=\"text\" value=\"\"/><button _ngcontent-sc74=\"\" class=\"btn btn-danger my-2 my-sm-0\" type=\"submit\">Search</button></form><div _ngcontent-sc74=\"\" class=\"mx-0\"><button _ngcontent-sc74=\"\" class=\"btn btn-danger mr-2\" data-target=\"#loginModal\" data-toggle=\"modal\" type=\"button\">Login</button><button _ngcontent-sc74=\"\" class=\"btn btn-danger\" data-target=\"#signupModal\" data-toggle=\"modal\" type=\"button\">SignUp</button></div><!-- --><!-- --></div></nav><div _ngcontent-sc74=\"\" aria-hidden=\"true\" aria-labelledby=\"loginModal\" class=\"modal fade\" id=\"loginModal\" role=\"dialog\" tabindex=\"-1\"><div _ngcontent-sc74=\"\" class=\"modal-dialog\" role=\"document\"><div _ngcontent-sc74=\"\" class=\"modal-content\"><div _ngcontent-sc74=\"\" class=\"modal-header\"><img _ngcontent-sc74=\"\" alt=\"Login with Google\" class=\"googleAuth mx-2\" height=\"42.75px\" src=\"../../../assets/img/googleLogin.png\" width=\"25%\"/><div _ngcontent-sc74=\"\" class=\"or mx-3\"> or </div><h5 _ngcontent-sc74=\"\" class=\"modal-title\" id=\"loginModalTitle\">Login via username</h5><button _ngcontent-sc74=\"\" aria-label=\"Close\" class=\"close\" data-dismiss=\"modal\" type=\"button\"><span _ngcontent-sc74=\"\" aria-hidden=\"true\">×</span></button></div><div _ngcontent-sc74=\"\" class=\"modal-body\"><form _ngcontent-sc74=\"\" class=\"ng-untouched ng-pristine ng-invalid\" method=\"post\" novalidate=\"\"><div _ngcontent-sc74=\"\" class=\"form-group\"><label _ngcontent-sc74=\"\" for=\"username\">Username</label><input _ngcontent-sc74=\"\" class=\"form-control ng-untouched ng-pristine ng-invalid\" id=\"username\" maxlength=\"10\" minlength=\"2\" name=\"username\" pattern=\"[a-zA-Z0-9 ]*\" placeholder=\"Enter your username\" required=\"\" type=\"text\" value=\"\"/><!-- --></div><div _ngcontent-sc74=\"\" class=\"form-group\"><label _ngcontent-sc74=\"\" for=\"loginpassword\">Password</label><input _ngcontent-sc74=\"\" class=\"form-control ng-untouched ng-pristine ng-invalid\" id=\"loginpassword\" name=\"loginpassword\" placeholder=\"Enter your password\" required=\"\" type=\"password\" value=\"\"/></div><button _ngcontent-sc74=\"\" class=\"btn btn-danger mt-2\" disabled=\"\" id=\"loginsubmit\" type=\"submit\"><!-- --> Login</button></form><!-- --><!-- --><!-- --><div _ngcontent-sc74=\"\" class=\"forgot\"><span _ngcontent-sc74=\"\">Forgot Password?</span></div></div><div _ngcontent-sc74=\"\" class=\"modal-footer\"><button _ngcontent-sc74=\"\" class=\"btn btn-secondary\" data-dismiss=\"modal\" type=\"button\">Close</button></div></div></div></div><div _ngcontent-sc74=\"\" aria-hidden=\"true\" aria-labelledby=\"signupModal\" class=\"modal fade\" id=\"signupModal\" role=\"dialog\" tabindex=\"-1\"><div _ngcontent-sc74=\"\" class=\"modal-dialog\" role=\"document\"><div _ngcontent-sc74=\"\" class=\"modal-content\"><div _ngcontent-sc74=\"\" class=\"modal-header\"><img _ngcontent-sc74=\"\" alt=\"Signup with Google\" class=\"googleAuth mx-2\" height=\"42.75px\" src=\"../../../assets/img/googleSignUp.png\" width=\"25%\"/><div _ngcontent-sc74=\"\" class=\"or mx-3\"> or </div><h5 _ngcontent-sc74=\"\" class=\"modal-title\" id=\"signupModal\">SignUp for an account</h5><button _ngcontent-sc74=\"\" aria-label=\"Close\" class=\"close\" data-dismiss=\"modal\" type=\"button\"><span _ngcontent-sc74=\"\" aria-hidden=\"true\">×</span></button></div><div _ngcontent-sc74=\"\" class=\"modal-body\"><form _ngcontent-sc74=\"\" class=\"ng-untouched ng-pristine ng-invalid\" method=\"post\" novalidate=\"\"><div _ngcontent-sc74=\"\" class=\"form-group\"><label _ngcontent-sc74=\"\" for=\"uname\">Username</label><input _ngcontent-sc74=\"\" class=\"form-control ng-untouched ng-pristine ng-invalid\" id=\"signupUserName\" maxlength=\"10\" minlength=\"4\" name=\"signupUserName\" ngmodel=\"\" pattern=\"[a-zA-Z0-9_ ]*\" placeholder=\"Enter your username\" required=\"\" type=\"text\" value=\"\"/><!-- --><small _ngcontent-sc74=\"\" class=\"form-text text-muted px-1\" id=\"unamehelp\"> Your unique username must 4 - 10 characters (only lowecase letters, numbers &amp; underscores allowed) with no spaces </small></div><div _ngcontent-sc74=\"\" class=\"form-group\"><label _ngcontent-sc74=\"\" for=\"signupName\">Name</label><input _ngcontent-sc74=\"\" class=\"form-control ng-untouched ng-pristine ng-valid\" id=\"signupName\" maxlength=\"30\" name=\"signupName\" ngmodel=\"\" placeholder=\"Enter your Name\" type=\"text\" value=\"\"/></div><div _ngcontent-sc74=\"\" class=\"form-group\"><label _ngcontent-sc74=\"\" for=\"email\">Your Email</label><div _ngcontent-sc74=\"\" class=\"mx-0\"><div _ngcontent-sc74=\"\" class=\"col-md-8 px-0\"><input _ngcontent-sc74=\"\" class=\"form-control ng-untouched ng-pristine ng-invalid\" email=\"\" id=\"signupEmail\" maxlength=\"40\" name=\"signupEmail\" placeholder=\"Enter your Email\" required=\"\" type=\"email\" value=\"\"/><!-- --><!-- --></div><div _ngcontent-sc74=\"\" class=\"col-md-4 my-1 px-0\"><button _ngcontent-sc74=\"\" class=\"btn btn-danger btn-sm mt-2\" disabled=\"\" id=\"otpbtn\" type=\"button\"><!-- --> Send OTP</button></div></div></div><div _ngcontent-sc74=\"\" class=\"form-group\"><label _ngcontent-sc74=\"\" for=\"otp\">Enter OTP</label><input _ngcontent-sc74=\"\" class=\"form-control ng-untouched ng-pristine ng-invalid\" id=\"signupOTP\" name=\"signupOTP\" ngmodel=\"\" placeholder=\"Enter OTP\" required=\"\" type=\"number\" value=\"\"/></div><div _ngcontent-sc74=\"\" class=\"form-group\"><label _ngcontent-sc74=\"\" for=\"signupPassword1\">Choose a password (At least 4 characters)</label><input _ngcontent-sc74=\"\" class=\"form-control ng-untouched ng-pristine ng-valid\" id=\"signupPassword1\" maxlength=\"20\" minlength=\"4\" name=\"signupPassword1\" ngmodel=\"\" placeholder=\"Choose a password\" type=\"password\" value=\"\"/></div><div _ngcontent-sc74=\"\" class=\"form-group mb-0\"><label _ngcontent-sc74=\"\" for=\"signupPassword2\">Retype your password</label><input _ngcontent-sc74=\"\" class=\"form-control ng-untouched ng-pristine ng-valid\" id=\"signupPassword2\" maxlength=\"20\" minlength=\"4\" name=\"signupPassword2\" ngmodel=\"\" placeholder=\"Retype your password\" type=\"password\" value=\"\"/></div><!-- --><!-- --><!-- --><!-- --><button _ngcontent-sc74=\"\" class=\"btn btn-danger mt-4\" disabled=\"\" type=\"submit\"><!-- --> SignUp</button></form></div><div _ngcontent-sc74=\"\" class=\"modal-footer\"><button _ngcontent-sc74=\"\" class=\"btn btn-secondary\" data-dismiss=\"modal\" type=\"button\">Close</button></div></div></div></div></app-header><div _ngcontent-sc76=\"\" class=\"content\"><router-outlet _ngcontent-sc76=\"\"></router-outlet><app-homepage _nghost-sc67=\"\"><section _ngcontent-sc67=\"\" class=\"jumbotron text-center\"><div _ngcontent-sc67=\"\" class=\"container\"><img _ngcontent-sc67=\"\" alt=\"logo\" src=\"../../../assets/img/logo.png\" width=\"120\"/><h1 _ngcontent-sc67=\"\" class=\"jumbotron-heading\"><span _ngcontent-sc67=\"\" id=\"typed\"></span></h1><p _ngcontent-sc67=\"\" class=\"lead text-muted\">Confused on which course to take? I have got you covered. Browse courses and find out the best course for you. Its free!<br _ngcontent-sc67=\"\"/>Code With Harry is my attempt to teach basics and those coding techniques to people in short time which took me ages to learn.</p><p _ngcontent-sc67=\"\"><a _ngcontent-sc67=\"\" class=\"btn btn-danger my-2\" href=\"/blog\" routerlink=\"/blog\">Browse Blog</a><a _ngcontent-sc67=\"\" class=\"btn btn-success my-2\" href=\"/videos\" routerlink=\"/videos\">Browse Video Tutorials</a><a _ngcontent-sc67=\"\" class=\"btn btn-primary my-2\" href=\"/contact\" routerlink=\"/contact\">Contact Me</a></p></div></section><div _ngcontent-sc67=\"\" class=\"container\"><div _ngcontent-sc67=\"\" class=\"row\"><div _ngcontent-sc67=\"\" class=\"card mx-auto my-2 p-2 align-items-center\" style=\"width: 18rem;\"><img _ngcontent-sc67=\"\" alt=\"...\" class=\"padded card-img-top\" src=\"../../../assets/img/home-img-1.jpg\"/><div _ngcontent-sc67=\"\" class=\"card-body\"><h5 _ngcontent-sc67=\"\" class=\"card-title text-center\">Free Video Courses</h5><p _ngcontent-sc67=\"\" class=\"card-text text-center\">Get your programming career started with these free video courses. Source code is available with all the videos for amazing learning experience</p><a _ngcontent-sc67=\"\" class=\"btn btn-primary d-block\" href=\"/videos\" routerlink=\"/videos\">Browse Video Courses</a></div></div><div _ngcontent-sc67=\"\" class=\"card mx-auto my-2 p-2 align-items-center\" style=\"width: 18rem;\"><img _ngcontent-sc67=\"\" alt=\"...\" class=\"padded card-img-top\" src=\"../../../assets/img/home-img-2.jpg\"/><div _ngcontent-sc67=\"\" class=\"card-body\"><h5 _ngcontent-sc67=\"\" class=\"card-title text-center\">Coding Articles</h5><p _ngcontent-sc67=\"\" class=\"card-text text-center\">Some of the latest coding information compiled in the form of coding articles. Keep your programming knowledge up to date with these articles.</p><a _ngcontent-sc67=\"\" class=\"btn btn-primary d-block\" href=\"/blog\" routerlink=\"/blog\">Go to Blog</a></div></div><div _ngcontent-sc67=\"\" class=\"card mx-auto my-2 p-2 align-items-center\" style=\"width: 18rem;\"><img _ngcontent-sc67=\"\" alt=\"...\" class=\"padded card-img-top\" src=\"../../../assets/img/home-img-3.jpg\"/><div _ngcontent-sc67=\"\" class=\"card-body\"><h5 _ngcontent-sc67=\"\" class=\"card-title text-center\">Contact Me</h5><p _ngcontent-sc67=\"\" class=\"card-text text-center\">Learn programming from these free courses. Examples are available with these tutorials. You can contact me for any doubt and I will get back to you!</p><a _ngcontent-sc67=\"\" class=\"btn btn-primary d-block\" href=\"/contact\" routerlink=\"/contact\">Contact Me</a></div></div></div></div></app-homepage><!-- --></div><app-footer _ngcontent-sc76=\"\" _nghost-sc75=\"\"><footer _ngcontent-sc75=\"\" class=\"container-fluid bg-dark my-0 py-3 text-light\"><p _ngcontent-sc75=\"\" class=\"mb-0 text-center\">Copyright © 2020-2021 CodeWithHarry.com</p></footer></app-footer></app-root>\n",
      "<script defer=\"\" src=\"runtime.7b63b9fd40098a2e8207.js\"></script><script defer=\"\" src=\"polyfills.00096ed7d93ed26ee6df.js\"></script><script defer=\"\" src=\"scripts.2558b03aa1b9660ed84d.js\"></script><script defer=\"\" src=\"main.bd8a3a7a366ac101c3dc.js\"></script>\n",
      "<script id=\"serverApp-state\" type=\"application/json\">{}</script></body><!-- This page was prerendered with Angular Universal --></html>>\n"
     ]
    }
   ],
   "source": [
    "# let's see by actually prettifying it\n",
    "print(soup.prettify)"
   ]
  },
  {
   "cell_type": "markdown",
   "id": "254c1b7c",
   "metadata": {},
   "source": [
    "# Step3 -- HTML Tree Traversal"
   ]
  },
  {
   "cell_type": "code",
   "execution_count": 14,
   "id": "edd84768",
   "metadata": {},
   "outputs": [
    {
     "name": "stdout",
     "output_type": "stream",
     "text": [
      "<title>Home - CodeWithHarry</title>\n",
      "Home - CodeWithHarry\n"
     ]
    }
   ],
   "source": [
    "# If we need to get the title of these tags, we can do it as \n",
    "# like wise we can do for all\n",
    "# Getting the title of html page\n",
    "title = soup.title\n",
    "# Print the title from soup object of title\n",
    "print(title)\n",
    "\n",
    "# .string use to get the string from html tags\n",
    "print(title.string)\n"
   ]
  },
  {
   "cell_type": "markdown",
   "id": "6f9e83b4",
   "metadata": {},
   "source": [
    "## Commonly used types of object\n",
    "### Tags\n",
    "### Navigable String\n",
    "### BeautifulSoup \n",
    "### Comment"
   ]
  },
  {
   "cell_type": "code",
   "execution_count": 15,
   "id": "bb0b1fbe",
   "metadata": {},
   "outputs": [
    {
     "name": "stdout",
     "output_type": "stream",
     "text": [
      "<class 'bs4.BeautifulSoup'>\n",
      "<class 'bs4.element.Tag'>\n",
      "<class 'bs4.element.NavigableString'>\n"
     ]
    }
   ],
   "source": [
    "# let's print to get the clarity\n",
    "print(type(soup))\n",
    "print(type(title))\n",
    "print(type(title.string))\n",
    "\n",
    "\n",
    "\n",
    "# As we are seeing these are different objects ."
   ]
  },
  {
   "cell_type": "code",
   "execution_count": 18,
   "id": "b0a4cee6",
   "metadata": {},
   "outputs": [
    {
     "data": {
      "text/plain": [
       "[<p _ngcontent-sc67=\"\" class=\"lead text-muted\">Confused on which course to take? I have got you covered. Browse courses and find out the best course for you. Its free!<br _ngcontent-sc67=\"\"/>Code With Harry is my attempt to teach basics and those coding techniques to people in short time which took me ages to learn.</p>,\n",
       " <p _ngcontent-sc67=\"\"><a _ngcontent-sc67=\"\" class=\"btn btn-danger my-2\" href=\"/blog\" routerlink=\"/blog\">Browse Blog</a><a _ngcontent-sc67=\"\" class=\"btn btn-success my-2\" href=\"/videos\" routerlink=\"/videos\">Browse Video Tutorials</a><a _ngcontent-sc67=\"\" class=\"btn btn-primary my-2\" href=\"/contact\" routerlink=\"/contact\">Contact Me</a></p>,\n",
       " <p _ngcontent-sc67=\"\" class=\"card-text text-center\">Get your programming career started with these free video courses. Source code is available with all the videos for amazing learning experience</p>,\n",
       " <p _ngcontent-sc67=\"\" class=\"card-text text-center\">Some of the latest coding information compiled in the form of coding articles. Keep your programming knowledge up to date with these articles.</p>,\n",
       " <p _ngcontent-sc67=\"\" class=\"card-text text-center\">Learn programming from these free courses. Examples are available with these tutorials. You can contact me for any doubt and I will get back to you!</p>,\n",
       " <p _ngcontent-sc75=\"\" class=\"mb-0 text-center\">Copyright © 2020-2021 CodeWithHarry.com</p>]"
      ]
     },
     "execution_count": 18,
     "metadata": {},
     "output_type": "execute_result"
    }
   ],
   "source": [
    "# Getting all the paragraphs , or anchor or any tags presesnt in the page\n",
    "paras = soup.find_all('p')\n",
    "paras"
   ]
  },
  {
   "cell_type": "code",
   "execution_count": 20,
   "id": "56147efa",
   "metadata": {},
   "outputs": [
    {
     "data": {
      "text/plain": [
       "[<a _ngcontent-sc74=\"\" class=\"navbar-brand\" href=\"/\" routerlink=\"/\"><img _ngcontent-sc74=\"\" alt=\"CodeWithHarry\" class=\"brandLogo\" height=\"39px\" src=\"../../../assets/img/logo.png\" width=\"39px\"/></a>,\n",
       " <a _ngcontent-sc74=\"\" class=\"nav-link\" href=\"/\" routerlink=\"/\">Home</a>,\n",
       " <a _ngcontent-sc74=\"\" class=\"nav-link\" href=\"/videos\" routerlink=\"/videos\">Videos</a>,\n",
       " <a _ngcontent-sc74=\"\" class=\"nav-link\" href=\"/blog\" routerlink=\"/blog\">Blog</a>,\n",
       " <a _ngcontent-sc74=\"\" class=\"nav-link\" href=\"/contact\" routerlink=\"/contact\">Contact Me</a>,\n",
       " <a _ngcontent-sc67=\"\" class=\"btn btn-danger my-2\" href=\"/blog\" routerlink=\"/blog\">Browse Blog</a>,\n",
       " <a _ngcontent-sc67=\"\" class=\"btn btn-success my-2\" href=\"/videos\" routerlink=\"/videos\">Browse Video Tutorials</a>,\n",
       " <a _ngcontent-sc67=\"\" class=\"btn btn-primary my-2\" href=\"/contact\" routerlink=\"/contact\">Contact Me</a>,\n",
       " <a _ngcontent-sc67=\"\" class=\"btn btn-primary d-block\" href=\"/videos\" routerlink=\"/videos\">Browse Video Courses</a>,\n",
       " <a _ngcontent-sc67=\"\" class=\"btn btn-primary d-block\" href=\"/blog\" routerlink=\"/blog\">Go to Blog</a>,\n",
       " <a _ngcontent-sc67=\"\" class=\"btn btn-primary d-block\" href=\"/contact\" routerlink=\"/contact\">Contact Me</a>]"
      ]
     },
     "execution_count": 20,
     "metadata": {},
     "output_type": "execute_result"
    }
   ],
   "source": [
    "# getting all anchor tags\n",
    "anchr = soup.find_all('a')\n",
    "anchr"
   ]
  },
  {
   "cell_type": "code",
   "execution_count": 23,
   "id": "eb3d81e2",
   "metadata": {},
   "outputs": [
    {
     "name": "stdout",
     "output_type": "stream",
     "text": [
      "<p _ngcontent-sc67=\"\" class=\"lead text-muted\">Confused on which course to take? I have got you covered. Browse courses and find out the best course for you. Its free!<br _ngcontent-sc67=\"\"/>Code With Harry is my attempt to teach basics and those coding techniques to people in short time which took me ages to learn.</p>\n",
      "\n",
      "['lead', 'text-muted']\n"
     ]
    }
   ],
   "source": [
    "# Get the first element in html page\n",
    "print(soup.find('p'))\n",
    "print()\n",
    "# get classess of any element in html page\n",
    "print(soup.find('p')['class'])"
   ]
  },
  {
   "cell_type": "code",
   "execution_count": 24,
   "id": "b9b1fce9",
   "metadata": {},
   "outputs": [
    {
     "name": "stdout",
     "output_type": "stream",
     "text": [
      "[<p _ngcontent-sc67=\"\" class=\"lead text-muted\">Confused on which course to take? I have got you covered. Browse courses and find out the best course for you. Its free!<br _ngcontent-sc67=\"\"/>Code With Harry is my attempt to teach basics and those coding techniques to people in short time which took me ages to learn.</p>]\n"
     ]
    }
   ],
   "source": [
    "# suppose we have to find all the elements with class as lead\n",
    "\n",
    "print(soup.find_all('p', class_ = 'lead'))"
   ]
  },
  {
   "cell_type": "code",
   "execution_count": 26,
   "id": "d107bc07",
   "metadata": {},
   "outputs": [
    {
     "name": "stdout",
     "output_type": "stream",
     "text": [
      "Confused on which course to take? I have got you covered. Browse courses and find out the best course for you. Its free!Code With Harry is my attempt to teach basics and those coding techniques to people in short time which took me ages to learn.\n"
     ]
    }
   ],
   "source": [
    "# get the text from the soup\n",
    "print(soup.find('p').get_text())"
   ]
  },
  {
   "cell_type": "markdown",
   "id": "3f4fa69a",
   "metadata": {},
   "source": [
    "### For getting the text of all soup"
   ]
  },
  {
   "cell_type": "code",
   "execution_count": 29,
   "id": "f02b1cfc",
   "metadata": {},
   "outputs": [
    {
     "name": "stdout",
     "output_type": "stream",
     "text": [
      "\n",
      "\n",
      "Home - CodeWithHarry\n",
      "\n",
      "\n",
      "\n",
      "\n",
      "\n",
      "\n",
      "\n",
      "\n",
      "\n",
      "\n",
      "\n",
      "\n",
      "HomeVideosBlogContact MeSearchLoginSignUp or Login via username×UsernamePassword LoginForgot Password?Close or SignUp for an account×Username Your unique username must 4 - 10 characters (only lowecase letters, numbers & underscores allowed) with no spaces NameYour Email Send OTPEnter OTPChoose a password (At least 4 characters)Retype your password SignUpCloseConfused on which course to take? I have got you covered. Browse courses and find out the best course for you. Its free!Code With Harry is my attempt to teach basics and those coding techniques to people in short time which took me ages to learn.Browse BlogBrowse Video TutorialsContact MeFree Video CoursesGet your programming career started with these free video courses. Source code is available with all the videos for amazing learning experienceBrowse Video CoursesCoding ArticlesSome of the latest coding information compiled in the form of coding articles. Keep your programming knowledge up to date with these articles.Go to BlogContact MeLearn programming from these free courses. Examples are available with these tutorials. You can contact me for any doubt and I will get back to you!Contact MeCopyright © 2020-2021 CodeWithHarry.com\n",
      "\n",
      "\n"
     ]
    }
   ],
   "source": [
    "print(soup.get_text())"
   ]
  },
  {
   "cell_type": "code",
   "execution_count": 28,
   "id": "d5d906b0",
   "metadata": {},
   "outputs": [
    {
     "data": {
      "text/plain": [
       "['\\n\\nHome - CodeWithHarry\\n\\n\\n\\n\\n\\n\\n\\n\\n\\n\\n\\n\\nHomeVideosBlogContact MeSearchLoginSignUp or Login via username×UsernamePassword LoginForgot Password?Close or SignUp for an account×Username Your unique username must 4 - 10 characters (only lowecase letters, numbers & underscores allowed) with no spaces NameYour Email Send OTPEnter OTPChoose a password (At least 4 characters)Retype your password SignUpCloseConfused on which course to take? I have got you covered. Browse courses and find out the best course for you. Its free!Code With Harry is my attempt to teach basics and those coding techniques to people in short time which took me ages to learn.Browse BlogBrowse Video TutorialsContact MeFree Video CoursesGet your programming career started with these free video courses. Source code is available with all the videos for amazing learning experienceBrowse Video CoursesCoding ArticlesSome of the latest coding information compiled in the form of coding articles. Keep your programming knowledge up to date with these articles.Go to BlogContact MeLearn programming from these free courses. Examples are available with these tutorials. You can contact me for any doubt and I will get back to you!Contact MeCopyright © 2020-2021 CodeWithHarry.com\\n\\n']"
      ]
     },
     "execution_count": 28,
     "metadata": {},
     "output_type": "execute_result"
    }
   ],
   "source": [
    "li = []\n",
    "li.append(soup.get_text())\n",
    "li"
   ]
  },
  {
   "cell_type": "code",
   "execution_count": 33,
   "id": "98d8da74",
   "metadata": {},
   "outputs": [
    {
     "data": {
      "text/plain": [
       "{'/', '/blog', '/contact', '/videos'}"
      ]
     },
     "execution_count": 33,
     "metadata": {},
     "output_type": "execute_result"
    }
   ],
   "source": [
    "# Get all the links on the page\n",
    "anchr = soup.find_all('a')\n",
    "all_links = set()\n",
    "for link in anchr:\n",
    "    if link != \"#\":\n",
    "        all_links.add(link.get(\"href\"))\n",
    "        \n",
    "all_links"
   ]
  },
  {
   "cell_type": "code",
   "execution_count": 35,
   "id": "3ce16b88",
   "metadata": {},
   "outputs": [
    {
     "data": {
      "text/plain": [
       "{'https://codewithharry.com//',\n",
       " 'https://codewithharry.com//blog',\n",
       " 'https://codewithharry.com//contact',\n",
       " 'https://codewithharry.com//videos'}"
      ]
     },
     "execution_count": 35,
     "metadata": {},
     "output_type": "execute_result"
    }
   ],
   "source": [
    "# rather than getting only href and we need to get with whole base url\n",
    "anchr = soup.find_all('a')\n",
    "all_links = set()\n",
    "for link in anchr:\n",
    "    if (link.get('href')) != \"#\":\n",
    "        all_links.add(\"https://codewithharry.com/\" + link.get(\"href\"))\n",
    "        \n",
    "all_links"
   ]
  },
  {
   "cell_type": "code",
   "execution_count": 42,
   "id": "1a383e30",
   "metadata": {},
   "outputs": [
    {
     "name": "stdout",
     "output_type": "stream",
     "text": [
      "<class 'bs4.element.Comment'>\n"
     ]
    }
   ],
   "source": [
    "# Comment object\n",
    "markup = \"<p><!-- this is a comment --></p>\" \n",
    "soup2 = BeautifulSoup(markup)\n",
    "#print(soup2)\n",
    "#print(soup2.p.string)\n",
    "print(type(soup2.p.string))"
   ]
  },
  {
   "cell_type": "code",
   "execution_count": 52,
   "id": "abba3bf3",
   "metadata": {},
   "outputs": [
    {
     "name": "stdout",
     "output_type": "stream",
     "text": [
      "<div _ngcontent-sc74=\"\" class=\"collapse navbar-collapse\" id=\"navbarSupportedContent\"><ul _ngcontent-sc74=\"\" class=\"navbar-nav mr-auto\"><li _ngcontent-sc74=\"\" class=\"nav-item font-weight-bold\"><a _ngcontent-sc74=\"\" class=\"nav-link\" href=\"/\" routerlink=\"/\">Home</a></li><li _ngcontent-sc74=\"\" class=\"nav-item font-weight-bold\"><a _ngcontent-sc74=\"\" class=\"nav-link\" href=\"/videos\" routerlink=\"/videos\">Videos</a></li><li _ngcontent-sc74=\"\" class=\"nav-item font-weight-bold\"><a _ngcontent-sc74=\"\" class=\"nav-link\" href=\"/blog\" routerlink=\"/blog\">Blog</a></li><li _ngcontent-sc74=\"\" class=\"nav-item font-weight-bold\"><a _ngcontent-sc74=\"\" class=\"nav-link\" href=\"/contact\" routerlink=\"/contact\">Contact Me</a></li></ul><form _ngcontent-sc74=\"\" class=\"form-inline my-2 my-lg-0 mr-3 ng-untouched ng-pristine ng-valid\" novalidate=\"\"><input _ngcontent-sc74=\"\" aria-label=\"Search\" class=\"form-control mr-sm-2 ng-untouched ng-pristine ng-valid\" name=\"query\" placeholder=\"Search\" type=\"text\" value=\"\"/><button _ngcontent-sc74=\"\" class=\"btn btn-danger my-2 my-sm-0\" type=\"submit\">Search</button></form><div _ngcontent-sc74=\"\" class=\"mx-0\"><button _ngcontent-sc74=\"\" class=\"btn btn-danger mr-2\" data-target=\"#loginModal\" data-toggle=\"modal\" type=\"button\">Login</button><button _ngcontent-sc74=\"\" class=\"btn btn-danger\" data-target=\"#signupModal\" data-toggle=\"modal\" type=\"button\">SignUp</button></div><!-- --><!-- --></div>\n",
      "\n",
      "None\n",
      "\n",
      "[<ul _ngcontent-sc74=\"\" class=\"navbar-nav mr-auto\"><li _ngcontent-sc74=\"\" class=\"nav-item font-weight-bold\"><a _ngcontent-sc74=\"\" class=\"nav-link\" href=\"/\" routerlink=\"/\">Home</a></li><li _ngcontent-sc74=\"\" class=\"nav-item font-weight-bold\"><a _ngcontent-sc74=\"\" class=\"nav-link\" href=\"/videos\" routerlink=\"/videos\">Videos</a></li><li _ngcontent-sc74=\"\" class=\"nav-item font-weight-bold\"><a _ngcontent-sc74=\"\" class=\"nav-link\" href=\"/blog\" routerlink=\"/blog\">Blog</a></li><li _ngcontent-sc74=\"\" class=\"nav-item font-weight-bold\"><a _ngcontent-sc74=\"\" class=\"nav-link\" href=\"/contact\" routerlink=\"/contact\">Contact Me</a></li></ul>, <form _ngcontent-sc74=\"\" class=\"form-inline my-2 my-lg-0 mr-3 ng-untouched ng-pristine ng-valid\" novalidate=\"\"><input _ngcontent-sc74=\"\" aria-label=\"Search\" class=\"form-control mr-sm-2 ng-untouched ng-pristine ng-valid\" name=\"query\" placeholder=\"Search\" type=\"text\" value=\"\"/><button _ngcontent-sc74=\"\" class=\"btn btn-danger my-2 my-sm-0\" type=\"submit\">Search</button></form>, <div _ngcontent-sc74=\"\" class=\"mx-0\"><button _ngcontent-sc74=\"\" class=\"btn btn-danger mr-2\" data-target=\"#loginModal\" data-toggle=\"modal\" type=\"button\">Login</button><button _ngcontent-sc74=\"\" class=\"btn btn-danger\" data-target=\"#signupModal\" data-toggle=\"modal\" type=\"button\">SignUp</button></div>, ' ', ' ']\n",
      "\n",
      "<ul _ngcontent-sc74=\"\" class=\"navbar-nav mr-auto\"><li _ngcontent-sc74=\"\" class=\"nav-item font-weight-bold\"><a _ngcontent-sc74=\"\" class=\"nav-link\" href=\"/\" routerlink=\"/\">Home</a></li><li _ngcontent-sc74=\"\" class=\"nav-item font-weight-bold\"><a _ngcontent-sc74=\"\" class=\"nav-link\" href=\"/videos\" routerlink=\"/videos\">Videos</a></li><li _ngcontent-sc74=\"\" class=\"nav-item font-weight-bold\"><a _ngcontent-sc74=\"\" class=\"nav-link\" href=\"/blog\" routerlink=\"/blog\">Blog</a></li><li _ngcontent-sc74=\"\" class=\"nav-item font-weight-bold\"><a _ngcontent-sc74=\"\" class=\"nav-link\" href=\"/contact\" routerlink=\"/contact\">Contact Me</a></li></ul>\n",
      "<form _ngcontent-sc74=\"\" class=\"form-inline my-2 my-lg-0 mr-3 ng-untouched ng-pristine ng-valid\" novalidate=\"\"><input _ngcontent-sc74=\"\" aria-label=\"Search\" class=\"form-control mr-sm-2 ng-untouched ng-pristine ng-valid\" name=\"query\" placeholder=\"Search\" type=\"text\" value=\"\"/><button _ngcontent-sc74=\"\" class=\"btn btn-danger my-2 my-sm-0\" type=\"submit\">Search</button></form>\n",
      "<div _ngcontent-sc74=\"\" class=\"mx-0\"><button _ngcontent-sc74=\"\" class=\"btn btn-danger mr-2\" data-target=\"#loginModal\" data-toggle=\"modal\" type=\"button\">Login</button><button _ngcontent-sc74=\"\" class=\"btn btn-danger\" data-target=\"#signupModal\" data-toggle=\"modal\" type=\"button\">SignUp</button></div>\n",
      " \n",
      " \n"
     ]
    }
   ],
   "source": [
    "# If we want to take a particular div whose with particular id\n",
    "navbarSupportedContent = soup.find(id = \"navbarSupportedContent\")\n",
    "print(navbarSupportedContent)\n",
    "print()\n",
    "# if we want to get all its children\n",
    "print(navbarSupportedContent.childern)  # none means having no childern\n",
    "print()\n",
    "\n",
    "# If we want to print the content\n",
    "print(navbarSupportedContent.contents)  # giving all its contents\n",
    "print()\n",
    "\n",
    "# let's visualize its content\n",
    "for element in navbarSupportedContent.contents:\n",
    "    print(element)"
   ]
  },
  {
   "cell_type": "code",
   "execution_count": 53,
   "id": "7f7ca494",
   "metadata": {},
   "outputs": [
    {
     "name": "stdout",
     "output_type": "stream",
     "text": [
      "<ul _ngcontent-sc74=\"\" class=\"navbar-nav mr-auto\"><li _ngcontent-sc74=\"\" class=\"nav-item font-weight-bold\"><a _ngcontent-sc74=\"\" class=\"nav-link\" href=\"/\" routerlink=\"/\">Home</a></li><li _ngcontent-sc74=\"\" class=\"nav-item font-weight-bold\"><a _ngcontent-sc74=\"\" class=\"nav-link\" href=\"/videos\" routerlink=\"/videos\">Videos</a></li><li _ngcontent-sc74=\"\" class=\"nav-item font-weight-bold\"><a _ngcontent-sc74=\"\" class=\"nav-link\" href=\"/blog\" routerlink=\"/blog\">Blog</a></li><li _ngcontent-sc74=\"\" class=\"nav-item font-weight-bold\"><a _ngcontent-sc74=\"\" class=\"nav-link\" href=\"/contact\" routerlink=\"/contact\">Contact Me</a></li></ul>\n",
      "<form _ngcontent-sc74=\"\" class=\"form-inline my-2 my-lg-0 mr-3 ng-untouched ng-pristine ng-valid\" novalidate=\"\"><input _ngcontent-sc74=\"\" aria-label=\"Search\" class=\"form-control mr-sm-2 ng-untouched ng-pristine ng-valid\" name=\"query\" placeholder=\"Search\" type=\"text\" value=\"\"/><button _ngcontent-sc74=\"\" class=\"btn btn-danger my-2 my-sm-0\" type=\"submit\">Search</button></form>\n",
      "<div _ngcontent-sc74=\"\" class=\"mx-0\"><button _ngcontent-sc74=\"\" class=\"btn btn-danger mr-2\" data-target=\"#loginModal\" data-toggle=\"modal\" type=\"button\">Login</button><button _ngcontent-sc74=\"\" class=\"btn btn-danger\" data-target=\"#signupModal\" data-toggle=\"modal\" type=\"button\">SignUp</button></div>\n",
      " \n",
      " \n"
     ]
    }
   ],
   "source": [
    "for element in navbarSupportedContent.children:\n",
    "    print(element)"
   ]
  },
  {
   "cell_type": "code",
   "execution_count": null,
   "id": "28a50d36",
   "metadata": {},
   "outputs": [],
   "source": [
    "# from above out we can see we are getting same output by .contents and .children\n",
    "# difference between a childern and contents\n",
    "# a) .contents - A tag's children are available as a list\n",
    "# b) .children - A tag's children are available as a generator\n",
    "\n",
    "# .contents takes much memory \n"
   ]
  },
  {
   "cell_type": "code",
   "execution_count": 54,
   "id": "8c1fd768",
   "metadata": {},
   "outputs": [
    {
     "name": "stdout",
     "output_type": "stream",
     "text": [
      "Home\n",
      "Videos\n",
      "Blog\n",
      "Contact Me\n",
      "Search\n",
      "Login\n",
      "SignUp\n"
     ]
    }
   ],
   "source": [
    "# if we want to get the strings\n",
    "for items in navbarSupportedContent.strings:\n",
    "    print(items)"
   ]
  },
  {
   "cell_type": "code",
   "execution_count": 55,
   "id": "3f44eea7",
   "metadata": {},
   "outputs": [
    {
     "name": "stdout",
     "output_type": "stream",
     "text": [
      "<a _ngcontent-sc74=\"\" class=\"navbar-brand\" href=\"/\" routerlink=\"/\"><img _ngcontent-sc74=\"\" alt=\"CodeWithHarry\" class=\"brandLogo\" height=\"39px\" src=\"../../../assets/img/logo.png\" width=\"39px\"/></a>\n",
      "<button _ngcontent-sc74=\"\" aria-controls=\"navbarSupportedContent\" aria-expanded=\"false\" aria-label=\"Toggle navigation\" class=\"navbar-toggler\" data-target=\"#navbarSupportedContent\" data-toggle=\"collapse\" type=\"button\"><span _ngcontent-sc74=\"\" class=\"navbar-toggler-icon\"></span></button>\n",
      "<div _ngcontent-sc74=\"\" class=\"collapse navbar-collapse\" id=\"navbarSupportedContent\"><ul _ngcontent-sc74=\"\" class=\"navbar-nav mr-auto\"><li _ngcontent-sc74=\"\" class=\"nav-item font-weight-bold\"><a _ngcontent-sc74=\"\" class=\"nav-link\" href=\"/\" routerlink=\"/\">Home</a></li><li _ngcontent-sc74=\"\" class=\"nav-item font-weight-bold\"><a _ngcontent-sc74=\"\" class=\"nav-link\" href=\"/videos\" routerlink=\"/videos\">Videos</a></li><li _ngcontent-sc74=\"\" class=\"nav-item font-weight-bold\"><a _ngcontent-sc74=\"\" class=\"nav-link\" href=\"/blog\" routerlink=\"/blog\">Blog</a></li><li _ngcontent-sc74=\"\" class=\"nav-item font-weight-bold\"><a _ngcontent-sc74=\"\" class=\"nav-link\" href=\"/contact\" routerlink=\"/contact\">Contact Me</a></li></ul><form _ngcontent-sc74=\"\" class=\"form-inline my-2 my-lg-0 mr-3 ng-untouched ng-pristine ng-valid\" novalidate=\"\"><input _ngcontent-sc74=\"\" aria-label=\"Search\" class=\"form-control mr-sm-2 ng-untouched ng-pristine ng-valid\" name=\"query\" placeholder=\"Search\" type=\"text\" value=\"\"/><button _ngcontent-sc74=\"\" class=\"btn btn-danger my-2 my-sm-0\" type=\"submit\">Search</button></form><div _ngcontent-sc74=\"\" class=\"mx-0\"><button _ngcontent-sc74=\"\" class=\"btn btn-danger mr-2\" data-target=\"#loginModal\" data-toggle=\"modal\" type=\"button\">Login</button><button _ngcontent-sc74=\"\" class=\"btn btn-danger\" data-target=\"#signupModal\" data-toggle=\"modal\" type=\"button\">SignUp</button></div><!-- --><!-- --></div>\n"
     ]
    }
   ],
   "source": [
    "# If we want to get the parents\n",
    "for items in navbarSupportedContent.parent:\n",
    "    print(items)"
   ]
  },
  {
   "cell_type": "code",
   "execution_count": 57,
   "id": "bd3370e0",
   "metadata": {
    "scrolled": false
   },
   "outputs": [
    {
     "name": "stdout",
     "output_type": "stream",
     "text": [
      "nav\n",
      "app-header\n",
      "app-root\n",
      "body\n",
      "html\n",
      "[document]\n"
     ]
    }
   ],
   "source": [
    "# .parents is a generator\n",
    "for item in navbarSupportedContent.parents:\n",
    "   # print(item)\n",
    "   # print()\n",
    "    print(item.name)"
   ]
  },
  {
   "cell_type": "code",
   "execution_count": 60,
   "id": "f044c2ff",
   "metadata": {},
   "outputs": [
    {
     "name": "stdout",
     "output_type": "stream",
     "text": [
      "None\n"
     ]
    },
    {
     "ename": "AttributeError",
     "evalue": "'NoneType' object has no attribute 'next_sibling'",
     "output_type": "error",
     "traceback": [
      "\u001b[1;31m---------------------------------------------------------------------------\u001b[0m",
      "\u001b[1;31mAttributeError\u001b[0m                            Traceback (most recent call last)",
      "\u001b[1;32m<ipython-input-60-3efdfd6d66de>\u001b[0m in \u001b[0;36m<module>\u001b[1;34m\u001b[0m\n\u001b[0;32m      1\u001b[0m \u001b[1;31m# getting the next sibling of particular\u001b[0m\u001b[1;33m\u001b[0m\u001b[1;33m\u001b[0m\u001b[1;33m\u001b[0m\u001b[0m\n\u001b[0;32m      2\u001b[0m \u001b[0mprint\u001b[0m\u001b[1;33m(\u001b[0m\u001b[0mnavbarSupportedContent\u001b[0m\u001b[1;33m.\u001b[0m\u001b[0mnext_sibling\u001b[0m\u001b[1;33m)\u001b[0m\u001b[1;33m\u001b[0m\u001b[1;33m\u001b[0m\u001b[0m\n\u001b[1;32m----> 3\u001b[1;33m \u001b[0mprint\u001b[0m\u001b[1;33m(\u001b[0m\u001b[0mnavbarSupportedContent\u001b[0m\u001b[1;33m.\u001b[0m\u001b[0mnext_sibling\u001b[0m\u001b[1;33m.\u001b[0m\u001b[0mnext_sibling\u001b[0m\u001b[1;33m)\u001b[0m\u001b[1;33m\u001b[0m\u001b[1;33m\u001b[0m\u001b[0m\n\u001b[0m",
      "\u001b[1;31mAttributeError\u001b[0m: 'NoneType' object has no attribute 'next_sibling'"
     ]
    }
   ],
   "source": [
    "# getting the next sibling of particular\n",
    "print(navbarSupportedContent.next_sibling)\n",
    "print(navbarSupportedContent.next_sibling.next_sibling)\n",
    "\n",
    "# Here in this we are not having any next sibling\n",
    "# Error occured because we are receiving next sibling as none"
   ]
  },
  {
   "cell_type": "code",
   "execution_count": 62,
   "id": "571c32e0",
   "metadata": {},
   "outputs": [
    {
     "name": "stdout",
     "output_type": "stream",
     "text": [
      "<button _ngcontent-sc74=\"\" aria-controls=\"navbarSupportedContent\" aria-expanded=\"false\" aria-label=\"Toggle navigation\" class=\"navbar-toggler\" data-target=\"#navbarSupportedContent\" data-toggle=\"collapse\" type=\"button\"><span _ngcontent-sc74=\"\" class=\"navbar-toggler-icon\"></span></button>\n",
      "\n",
      "<a _ngcontent-sc74=\"\" class=\"navbar-brand\" href=\"/\" routerlink=\"/\"><img _ngcontent-sc74=\"\" alt=\"CodeWithHarry\" class=\"brandLogo\" height=\"39px\" src=\"../../../assets/img/logo.png\" width=\"39px\"/></a>\n"
     ]
    }
   ],
   "source": [
    "# Previous sibling\n",
    "print(navbarSupportedContent.previous_sibling)\n",
    "print()\n",
    "print(navbarSupportedContent.previous_sibling.previous_sibling)\n",
    "\n",
    "\n",
    "# here we are having the previous sibling"
   ]
  },
  {
   "cell_type": "markdown",
   "id": "33398a9e",
   "metadata": {},
   "source": [
    "# CSS Selector"
   ]
  },
  {
   "cell_type": "code",
   "execution_count": 65,
   "id": "405ac60e",
   "metadata": {},
   "outputs": [
    {
     "name": "stdout",
     "output_type": "stream",
     "text": [
      "[<div _ngcontent-sc74=\"\" aria-hidden=\"true\" aria-labelledby=\"loginModal\" class=\"modal fade\" id=\"loginModal\" role=\"dialog\" tabindex=\"-1\"><div _ngcontent-sc74=\"\" class=\"modal-dialog\" role=\"document\"><div _ngcontent-sc74=\"\" class=\"modal-content\"><div _ngcontent-sc74=\"\" class=\"modal-header\"><img _ngcontent-sc74=\"\" alt=\"Login with Google\" class=\"googleAuth mx-2\" height=\"42.75px\" src=\"../../../assets/img/googleLogin.png\" width=\"25%\"/><div _ngcontent-sc74=\"\" class=\"or mx-3\"> or </div><h5 _ngcontent-sc74=\"\" class=\"modal-title\" id=\"loginModalTitle\">Login via username</h5><button _ngcontent-sc74=\"\" aria-label=\"Close\" class=\"close\" data-dismiss=\"modal\" type=\"button\"><span _ngcontent-sc74=\"\" aria-hidden=\"true\">×</span></button></div><div _ngcontent-sc74=\"\" class=\"modal-body\"><form _ngcontent-sc74=\"\" class=\"ng-untouched ng-pristine ng-invalid\" method=\"post\" novalidate=\"\"><div _ngcontent-sc74=\"\" class=\"form-group\"><label _ngcontent-sc74=\"\" for=\"username\">Username</label><input _ngcontent-sc74=\"\" class=\"form-control ng-untouched ng-pristine ng-invalid\" id=\"username\" maxlength=\"10\" minlength=\"2\" name=\"username\" pattern=\"[a-zA-Z0-9 ]*\" placeholder=\"Enter your username\" required=\"\" type=\"text\" value=\"\"/><!-- --></div><div _ngcontent-sc74=\"\" class=\"form-group\"><label _ngcontent-sc74=\"\" for=\"loginpassword\">Password</label><input _ngcontent-sc74=\"\" class=\"form-control ng-untouched ng-pristine ng-invalid\" id=\"loginpassword\" name=\"loginpassword\" placeholder=\"Enter your password\" required=\"\" type=\"password\" value=\"\"/></div><button _ngcontent-sc74=\"\" class=\"btn btn-danger mt-2\" disabled=\"\" id=\"loginsubmit\" type=\"submit\"><!-- --> Login</button></form><!-- --><!-- --><!-- --><div _ngcontent-sc74=\"\" class=\"forgot\"><span _ngcontent-sc74=\"\">Forgot Password?</span></div></div><div _ngcontent-sc74=\"\" class=\"modal-footer\"><button _ngcontent-sc74=\"\" class=\"btn btn-secondary\" data-dismiss=\"modal\" type=\"button\">Close</button></div></div></div></div>]\n",
      "------------------------------------------------------------\n",
      "[]\n"
     ]
    }
   ],
   "source": [
    "# we select any id by using this # as abbreviation\n",
    "elem = soup.select(\"#loginModal\")   \n",
    "print(elem)\n",
    "print(\"------------------------------------------------------------\")\n",
    "ele = soup.select(\".loginModal\")   # gives us class\n",
    "print(ele) # it is empty, means we are not having as such class\n"
   ]
  },
  {
   "cell_type": "code",
   "execution_count": 66,
   "id": "cb5d8aac",
   "metadata": {},
   "outputs": [
    {
     "name": "stdout",
     "output_type": "stream",
     "text": [
      "[<div _ngcontent-sc74=\"\" class=\"modal-footer\"><button _ngcontent-sc74=\"\" class=\"btn btn-secondary\" data-dismiss=\"modal\" type=\"button\">Close</button></div>, <div _ngcontent-sc74=\"\" class=\"modal-footer\"><button _ngcontent-sc74=\"\" class=\"btn btn-secondary\" data-dismiss=\"modal\" type=\"button\">Close</button></div>]\n"
     ]
    }
   ],
   "source": [
    "# Let's see if we are having some class \n",
    "ele = soup.select(\".modal-footer\")   # gives us class\n",
    "print(ele) "
   ]
  }
 ],
 "metadata": {
  "kernelspec": {
   "display_name": "Python 3",
   "language": "python",
   "name": "python3"
  },
  "language_info": {
   "codemirror_mode": {
    "name": "ipython",
    "version": 3
   },
   "file_extension": ".py",
   "mimetype": "text/x-python",
   "name": "python",
   "nbconvert_exporter": "python",
   "pygments_lexer": "ipython3",
   "version": "3.8.8"
  }
 },
 "nbformat": 4,
 "nbformat_minor": 5
}
