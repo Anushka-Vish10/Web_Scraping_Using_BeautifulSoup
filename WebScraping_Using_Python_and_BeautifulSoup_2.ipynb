{
 "cells": [
  {
   "cell_type": "code",
   "execution_count": null,
   "id": "b3caa6b1",
   "metadata": {},
   "outputs": [],
   "source": [
    "# Importing required libraries"
   ]
  },
  {
   "cell_type": "code",
   "execution_count": 2,
   "id": "d97b2a81",
   "metadata": {},
   "outputs": [
    {
     "name": "stdout",
     "output_type": "stream",
     "text": [
      "Requirement already satisfied: lxml in c:\\users\\celebal\\anaconda3\\lib\\site-packages (4.6.3)\n"
     ]
    }
   ],
   "source": [
    "!pip install lxml"
   ]
  },
  {
   "cell_type": "code",
   "execution_count": 1,
   "id": "d023f3d1",
   "metadata": {},
   "outputs": [],
   "source": [
    "import requests\n",
    "from bs4 import BeautifulSoup"
   ]
  },
  {
   "cell_type": "code",
   "execution_count": 7,
   "id": "45cd3cce",
   "metadata": {},
   "outputs": [
    {
     "name": "stdout",
     "output_type": "stream",
     "text": [
      "<h5 class=\"card-title\">Python for beginners</h5>\n",
      "[<h5 class=\"card-title\">Python for beginners</h5>, <h5 class=\"card-title\">Python Web Development</h5>, <h5 class=\"card-title\">Python Machine Learning</h5>]\n",
      "Python for beginners\n",
      "Python Web Development\n",
      "Python Machine Learning\n"
     ]
    }
   ],
   "source": [
    "# reading the file having hml content, assigning the variable as html_file\n",
    "\n",
    "with open('home.html','r') as html_file:\n",
    "    content = html_file.read()\n",
    "    \n",
    "    soup = BeautifulSoup(content, 'lxml') # lxml parser consider one of the best parser \n",
    "    # printing the content present in the file\n",
    "    #print(soup.prettify())\n",
    "    \n",
    "    # Suppose we want to get a particular tags\n",
    "    tag = soup.find('h5')  # find for specific tags that we gonna give in find, printing the frist tag\n",
    "    print(tag)\n",
    "    \n",
    "    courses_html_tag = soup.find_all('h5')  # gives list of all element having header as h5\n",
    "    print(courses_html_tag)\n",
    "    \n",
    "    # iterating on the list & get the text\n",
    "    for course in courses_html_tag:\n",
    "        print(course.text)\n",
    "        print()\n",
    "  \n"
   ]
  },
  {
   "cell_type": "code",
   "execution_count": 17,
   "id": "9f45cf70",
   "metadata": {},
   "outputs": [
    {
     "name": "stdout",
     "output_type": "stream",
     "text": [
      "Python for beginners cost 20$\n",
      "Python Web Development cost 50$\n",
      "Python Machine Learning cost 100$\n"
     ]
    }
   ],
   "source": [
    "# writing a program for geting list of all of the courses and price associated to it\n",
    "with open('home.html', 'r') as file:\n",
    "    content = file.read()\n",
    "    soup = BeautifulSoup(content, 'lxml')\n",
    "    course_card = soup.find_all('div', class_=\"card\")  # we can identify div tag and filter for the class as card\n",
    "    # we we get the list of all class having card\n",
    "    for course in course_card:\n",
    "        course_name = course.h5.text \n",
    "        #course_price = course.a.text\n",
    "        #print(course_name)\n",
    "        #print(course_price)\n",
    "        # suppose we want just the price\n",
    "        only_price = course.a.text.split()[-1]\n",
    "        #print(only_price)\n",
    "        #print()\n",
    "        print(f'{course_name} cost {only_price}')\n",
    "    "
   ]
  },
  {
   "cell_type": "code",
   "execution_count": 11,
   "id": "36da8dbc",
   "metadata": {
    "scrolled": true
   },
   "outputs": [
    {
     "name": "stdout",
     "output_type": "stream",
     "text": [
      "\n",
      "\n",
      "\n",
      "\n",
      "\n",
      "My Courses\n",
      "\n",
      "\n",
      "Hello, Start Learning!\n",
      "\n",
      "\n",
      "            Python\n",
      "         \n",
      "\n",
      "Python for beginners\n",
      "If you are new to Python, this is the course that you should buy!\n",
      "Start for 20$\n",
      "\n",
      "\n",
      "\n",
      "\n",
      "            Python\n",
      "         \n",
      "\n",
      "Python Web Development\n",
      "If you feel enough confident with python, you are ready to learn how to create your own website!\n",
      "Start for 50$\n",
      "\n",
      "\n",
      "\n",
      "\n",
      "            Python\n",
      "         \n",
      "\n",
      "Python Machine Learning\n",
      "Become a Python Machine Learning master!\n",
      "Start for 100$\n",
      "\n",
      "\n",
      "\n",
      "\n"
     ]
    }
   ],
   "source": [
    "# getting all the text present in that page\n",
    "with open('home.html', 'r') as file:\n",
    "    content = file.read()\n",
    "    soup = BeautifulSoup(content, 'lxml')\n",
    "    print(soup.get_text())"
   ]
  },
  {
   "cell_type": "markdown",
   "id": "e8080b21",
   "metadata": {},
   "source": []
  }
 ],
 "metadata": {
  "kernelspec": {
   "display_name": "Python 3",
   "language": "python",
   "name": "python3"
  },
  "language_info": {
   "codemirror_mode": {
    "name": "ipython",
    "version": 3
   },
   "file_extension": ".py",
   "mimetype": "text/x-python",
   "name": "python",
   "nbconvert_exporter": "python",
   "pygments_lexer": "ipython3",
   "version": "3.8.8"
  }
 },
 "nbformat": 4,
 "nbformat_minor": 5
}
