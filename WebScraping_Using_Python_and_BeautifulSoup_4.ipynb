{
 "cells": [
  {
   "cell_type": "raw",
   "id": "cb035d9c",
   "metadata": {},
   "source": [
    "Beautiful Soup is a Python library for pulling data out of HTML and XML files. It works with your favorite parser to provide idiomatic ways of navigating, searching, and modifying the parse tree. It commonly saves programmers hours or days of work"
   ]
  },
  {
   "cell_type": "code",
   "execution_count": 2,
   "id": "8964297d",
   "metadata": {},
   "outputs": [],
   "source": [
    "# Required Libraries\n",
    "from bs4 import BeautifulSoup"
   ]
  },
  {
   "cell_type": "markdown",
   "id": "edc38d9f",
   "metadata": {},
   "source": [
    "## HTML Content"
   ]
  },
  {
   "cell_type": "code",
   "execution_count": 1,
   "id": "d6dc8e6f",
   "metadata": {},
   "outputs": [],
   "source": [
    "\n",
    "html_doc = \"\"\"\n",
    "<html><head><title>The Dormouse's story</title></head>\n",
    "<body>\n",
    "<p class=\"title\"><b>The Dormouse's story</b></p>\n",
    "\n",
    "<p class=\"story\">Once upon a time there were three little sisters; and their names were\n",
    "<a href=\"http://example.com/elsie\" class=\"sister\" id=\"link1\">Elsie</a>,\n",
    "<a href=\"http://example.com/lacie\" class=\"sister\" id=\"link2\">Lacie</a> and\n",
    "<a href=\"http://example.com/tillie\" class=\"sister\" id=\"link3\">Tillie</a>;\n",
    "and they lived at the bottom of a well.</p>\n",
    "\n",
    "<p class=\"story\">...</p>\n",
    "\"\"\""
   ]
  },
  {
   "cell_type": "code",
   "execution_count": 4,
   "id": "85a80dbd",
   "metadata": {},
   "outputs": [
    {
     "name": "stdout",
     "output_type": "stream",
     "text": [
      "<html>\n",
      " <head>\n",
      "  <title>\n",
      "   The Dormouse's story\n",
      "  </title>\n",
      " </head>\n",
      " <body>\n",
      "  <p class=\"title\">\n",
      "   <b>\n",
      "    The Dormouse's story\n",
      "   </b>\n",
      "  </p>\n",
      "  <p class=\"story\">\n",
      "   Once upon a time there were three little sisters; and their names were\n",
      "   <a class=\"sister\" href=\"http://example.com/elsie\" id=\"link1\">\n",
      "    Elsie\n",
      "   </a>\n",
      "   ,\n",
      "   <a class=\"sister\" href=\"http://example.com/lacie\" id=\"link2\">\n",
      "    Lacie\n",
      "   </a>\n",
      "   and\n",
      "   <a class=\"sister\" href=\"http://example.com/tillie\" id=\"link3\">\n",
      "    Tillie\n",
      "   </a>\n",
      "   ;\n",
      "and they lived at the bottom of a well.\n",
      "  </p>\n",
      "  <p class=\"story\">\n",
      "   ...\n",
      "  </p>\n",
      " </body>\n",
      "</html>\n"
     ]
    }
   ],
   "source": [
    "# soup object\n",
    "# Note : We can also use another parser, e.g  lxml parser.\n",
    "soup = BeautifulSoup(html_doc, 'html.parser')\n",
    "\n",
    "print(soup.prettify()) # printing soup object by prettifying it"
   ]
  },
  {
   "cell_type": "markdown",
   "id": "34745051",
   "metadata": {},
   "source": [
    "## For getting all text from these soup content"
   ]
  },
  {
   "cell_type": "code",
   "execution_count": 5,
   "id": "bb4ec28f",
   "metadata": {},
   "outputs": [
    {
     "data": {
      "text/plain": [
       "\"\\nThe Dormouse's story\\n\\nThe Dormouse's story\\nOnce upon a time there were three little sisters; and their names were\\nElsie,\\nLacie and\\nTillie;\\nand they lived at the bottom of a well.\\n...\\n\""
      ]
     },
     "execution_count": 5,
     "metadata": {},
     "output_type": "execute_result"
    }
   ],
   "source": [
    "soup.get_text()"
   ]
  },
  {
   "cell_type": "markdown",
   "id": "db7e214e",
   "metadata": {},
   "source": [
    "## One common task is extracting all the URLs found within a page’s <a> tags:"
   ]
  },
  {
   "cell_type": "code",
   "execution_count": 20,
   "id": "0b64afa8",
   "metadata": {},
   "outputs": [
    {
     "data": {
      "text/plain": [
       "[<a class=\"sister\" href=\"http://example.com/elsie\" id=\"link1\">Elsie</a>,\n",
       " <a class=\"sister\" href=\"http://example.com/lacie\" id=\"link2\">Lacie</a>,\n",
       " <a class=\"sister\" href=\"http://example.com/tillie\" id=\"link3\">Tillie</a>]"
      ]
     },
     "execution_count": 20,
     "metadata": {},
     "output_type": "execute_result"
    }
   ],
   "source": [
    "# One common task is extracting all the URLs found within a page’s <a> tags:\n",
    "links = soup.find_all('a')\n",
    "links"
   ]
  },
  {
   "cell_type": "code",
   "execution_count": 21,
   "id": "67b25931",
   "metadata": {},
   "outputs": [
    {
     "name": "stdout",
     "output_type": "stream",
     "text": [
      "http://example.com/elsie\n",
      "http://example.com/lacie\n",
      "http://example.com/tillie\n"
     ]
    }
   ],
   "source": [
    "for link in links:\n",
    "    print(link.get(\"href\"))\n",
    "\n"
   ]
  },
  {
   "cell_type": "markdown",
   "id": "8c21696b",
   "metadata": {},
   "source": [
    "## Here are some simple ways to navigate that data structure:\n",
    "\n"
   ]
  },
  {
   "cell_type": "code",
   "execution_count": 24,
   "id": "95f7fd50",
   "metadata": {},
   "outputs": [
    {
     "name": "stdout",
     "output_type": "stream",
     "text": [
      "<title>The Dormouse's story</title>\n",
      "title\n",
      "The Dormouse's story\n"
     ]
    }
   ],
   "source": [
    "print(soup.title) ## print the title of this page\n",
    "print(soup.title.name)  ## It gives the tag i.e title\n",
    "print(soup.title.string)  ## Gives the text inside the title"
   ]
  },
  {
   "cell_type": "code",
   "execution_count": 26,
   "id": "ec10ed66",
   "metadata": {},
   "outputs": [
    {
     "name": "stdout",
     "output_type": "stream",
     "text": [
      "head\n"
     ]
    }
   ],
   "source": [
    "# Gives the parent associated to that particular tag, if not avaialbale gives none\n",
    "print(soup.title.parent.name)"
   ]
  },
  {
   "cell_type": "code",
   "execution_count": 34,
   "id": "60568df2",
   "metadata": {},
   "outputs": [
    {
     "name": "stdout",
     "output_type": "stream",
     "text": [
      "<p class=\"title\"><b>The Dormouse's story</b></p>\n",
      "<p class=\"title\"><b>The Dormouse's story</b></p>\n",
      "-----------------------------------------------------------------\n",
      "\n",
      "[<p class=\"title\"><b>The Dormouse's story</b></p>, <p class=\"story\">Once upon a time there were three little sisters; and their names were\n",
      "<a class=\"sister\" href=\"http://example.com/elsie\" id=\"link1\">Elsie</a>,\n",
      "<a class=\"sister\" href=\"http://example.com/lacie\" id=\"link2\">Lacie</a> and\n",
      "<a class=\"sister\" href=\"http://example.com/tillie\" id=\"link3\">Tillie</a>;\n",
      "and they lived at the bottom of a well.</p>, <p class=\"story\">...</p>]\n",
      "-----------------------------------------------------------------\n",
      "\n",
      "The Dormouse's story\n",
      "Once upon a time there were three little sisters; and their names were\n",
      "Elsie,\n",
      "Lacie and\n",
      "Tillie;\n",
      "and they lived at the bottom of a well.\n",
      "...\n",
      "-----------------------------------------------------------------\n",
      "\n",
      "['title']\n",
      "-----------------------------------------------------------------\n",
      "\n",
      "[<p class=\"title\"><b>The Dormouse's story</b></p>]\n"
     ]
    }
   ],
   "source": [
    "# For getting 1 paragraph \n",
    "print(soup.p)\n",
    "print(soup.find('p'))  # both work for the same\n",
    "print(\"-----------------------------------------------------------------\")\n",
    "print()\n",
    "# For getting all paragraphs presnt in that web pages\n",
    "print(soup.find_all('p'))  ## gives us all the paragraphs in a list\n",
    "print(\"-----------------------------------------------------------------\")\n",
    "print()\n",
    "# For getting the text from all paragraphs\n",
    "paras = soup.find_all('p')\n",
    "for para in paras:\n",
    "    print(para.text)   # grtting the text from the tags\n",
    "    \n",
    "print(\"-----------------------------------------------------------------\")\n",
    "print()\n",
    "# We can filter this more by using class\n",
    "parag = soup.p['class']\n",
    "print(parag)\n",
    "print(\"-----------------------------------------------------------------\")\n",
    "print()\n",
    "paragap = soup.find_all('p', class_=\"title\")  # we are having only one paragraph by class = title\n",
    "\n",
    "print(paragap)\n",
    "    \n"
   ]
  },
  {
   "cell_type": "code",
   "execution_count": 35,
   "id": "923cbc8b",
   "metadata": {},
   "outputs": [],
   "source": [
    "# Many more have to explore\n",
    "# For more ecplore this document\n",
    "# BeautifulSoup documnet: https://www.crummy.com/software/BeautifulSoup/bs4/doc/"
   ]
  },
  {
   "cell_type": "code",
   "execution_count": null,
   "id": "8d3e9b74",
   "metadata": {},
   "outputs": [],
   "source": []
  }
 ],
 "metadata": {
  "kernelspec": {
   "display_name": "Python 3",
   "language": "python",
   "name": "python3"
  },
  "language_info": {
   "codemirror_mode": {
    "name": "ipython",
    "version": 3
   },
   "file_extension": ".py",
   "mimetype": "text/x-python",
   "name": "python",
   "nbconvert_exporter": "python",
   "pygments_lexer": "ipython3",
   "version": "3.8.8"
  }
 },
 "nbformat": 4,
 "nbformat_minor": 5
}
